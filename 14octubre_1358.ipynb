{
  "nbformat": 4,
  "nbformat_minor": 0,
  "metadata": {
    "colab": {
      "name": "14octubre_1358.ipynb",
      "provenance": [],
      "authorship_tag": "ABX9TyPMkXS5z8C7GB7Z0Iiw2VGx",
      "include_colab_link": true
    },
    "kernelspec": {
      "name": "python3",
      "display_name": "Python 3"
    }
  },
  "cells": [
    {
      "cell_type": "markdown",
      "metadata": {
        "id": "view-in-github",
        "colab_type": "text"
      },
      "source": [
        "<a href=\"https://colab.research.google.com/github/victordelangelss/edd_1358_2021/blob/master/14octubre_1358.ipynb\" target=\"_parent\"><img src=\"https://colab.research.google.com/assets/colab-badge.svg\" alt=\"Open In Colab\"/></a>"
      ]
    },
    {
      "cell_type": "code",
      "metadata": {
        "id": "pRFHmKydnsTJ",
        "outputId": "ba39ecee-b75c-4bce-d793-1ce0247876c6",
        "colab": {
          "base_uri": "https://localhost:8080/",
          "height": 68
        }
      },
      "source": [
        "def calcular( a, b, c):\n",
        "    x = a + ( b / c)\n",
        "    return x\n",
        "\n",
        "print(calcular(5, 9, 3))\n",
        "print(calcular(a=5, c=3, b=9))\n",
        "\n",
        "def calcular_v2( a=10, b=20, c=5):\n",
        "    x= a + (b / c)\n",
        "    return x\n",
        "\n",
        "print(calcular_v2(c=2, a=40, b=8))\n",
        "\n"
      ],
      "execution_count": 9,
      "outputs": [
        {
          "output_type": "stream",
          "text": [
            "8.0\n",
            "8.0\n",
            "44.0\n"
          ],
          "name": "stdout"
        }
      ]
    },
    {
      "cell_type": "markdown",
      "metadata": {
        "id": "mrwJIm-Trtd3"
      },
      "source": [
        "# argumentos a funciones por tupla *\n",
        "se envian los argumentos en un conjunto de elementos dentro de una tupla"
      ]
    },
    {
      "cell_type": "code",
      "metadata": {
        "id": "lznwg0Iur6Se",
        "outputId": "8141a762-87de-494d-faf0-17b0cfa4d811",
        "colab": {
          "base_uri": "https://localhost:8080/",
          "height": 51
        }
      },
      "source": [
        "#operador * te regresa una tupla\n",
        "def calculo( *elem):\n",
        "    print(elem)\n",
        "    x = elem[0] + (elem[1] / elem[2])\n",
        "    return x\n",
        "    \n",
        "print(calculo(5,9,3,8,8))\n"
      ],
      "execution_count": 12,
      "outputs": [
        {
          "output_type": "stream",
          "text": [
            "(5, 9, 3, 8, 8)\n",
            "8.0\n"
          ],
          "name": "stdout"
        }
      ]
    },
    {
      "cell_type": "markdown",
      "metadata": {
        "id": "4ajhqpWasuPJ"
      },
      "source": [
        "# argumentos como diccionario **\n"
      ]
    },
    {
      "cell_type": "code",
      "metadata": {
        "id": "RrKKt9szszBb",
        "outputId": "233a1b2c-6a7b-4a34-bae4-3855a4e5f43a",
        "colab": {
          "base_uri": "https://localhost:8080/",
          "height": 51
        }
      },
      "source": [
        "# operador ** te regresa un diccionario\n",
        "def calculo( **elem):\n",
        "    print(elem)\n",
        "    x = elem['a']+ (elem['b']/elem['c'])\n",
        "    return x\n",
        "\n",
        "print(calculo(a=5, b=9, c=3))"
      ],
      "execution_count": 18,
      "outputs": [
        {
          "output_type": "stream",
          "text": [
            "{'a': 5, 'b': 9, 'c': 3}\n",
            "8.0\n"
          ],
          "name": "stdout"
        }
      ]
    },
    {
      "cell_type": "markdown",
      "metadata": {
        "id": "GpdzNiS3tx8R"
      },
      "source": [
        "# archivos\n",
        "- abrirlos\n",
        "    - un str con la ruta el archivo\n",
        "    - dos caracteres: 1-> modo de apertura(r,w) y el 2 formato(texto o BBinario \n",
        "- leerlos\n",
        "- modificarlos\n"
      ]
    },
    {
      "cell_type": "code",
      "metadata": {
        "id": "aF-CplYD3EA5"
      },
      "source": [
        "#abrir el archivo\n",
        "archivo = open ('ejemplo.txt','wt')\n",
        "#seleccionar que dice el archivo\n",
        "archivo.write(\"Hola mundo de archivos\")\n",
        "#cerrar el archivo\n",
        "archivo.close()\n"
      ],
      "execution_count": 20,
      "outputs": []
    },
    {
      "cell_type": "code",
      "metadata": {
        "id": "O7LJc9Oh4eda",
        "outputId": "45212ec1-4fc9-43d5-f6bc-afdee7bd647f",
        "colab": {
          "base_uri": "https://localhost:8080/",
          "height": 34
        }
      },
      "source": [
        "# mandando llamar comando del sistema operativo\n",
        "cat ejemplo.txt"
      ],
      "execution_count": 21,
      "outputs": [
        {
          "output_type": "stream",
          "text": [
            "Hola mundo de archivos"
          ],
          "name": "stdout"
        }
      ]
    },
    {
      "cell_type": "code",
      "metadata": {
        "id": "ywVDk3UK5Rbl"
      },
      "source": [
        "#pasar contenido de un archivo a otro\n",
        "!(cat ejemplo.txt > otra.txt)"
      ],
      "execution_count": 25,
      "outputs": []
    }
  ]
}