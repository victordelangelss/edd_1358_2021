{
  "nbformat": 4,
  "nbformat_minor": 0,
  "metadata": {
    "colab": {
      "name": "07octubre_1358.ipynb",
      "provenance": [],
      "collapsed_sections": [],
      "authorship_tag": "ABX9TyMoI9IxpjLQdmWnX70Kdkgk",
      "include_colab_link": true
    },
    "kernelspec": {
      "name": "python3",
      "display_name": "Python 3"
    }
  },
  "cells": [
    {
      "cell_type": "markdown",
      "metadata": {
        "id": "view-in-github",
        "colab_type": "text"
      },
      "source": [
        "<a href=\"https://colab.research.google.com/github/victordelangelss/edd_1358_2021/blob/master/07octubre_1358.ipynb\" target=\"_parent\"><img src=\"https://colab.research.google.com/assets/colab-badge.svg\" alt=\"Open In Colab\"/></a>"
      ]
    },
    {
      "cell_type": "code",
      "metadata": {
        "id": "O14sAHnMk6hm",
        "outputId": "bfed8cc1-c17f-4fa9-ddfe-f2e801d37d6e",
        "colab": {
          "base_uri": "https://localhost:8080/"
        }
      },
      "source": [
        "#listas multidimencion\n",
        "autos = [\"Mazda\",\"honda\",\"Akura\",\"Ford\",\"VW\"]\n",
        "telefonos = [\"iPhone\",\"Huawei Mate 30\", \"Xiaomi S10\",\"Alcatel t1000\"]\n",
        "sistemas_operativos = [ \"Windows\", \"Linux\" , \"Android\" , \"iOS\" ,\"MacOs\" ]\n",
        "procesadores = [[\"intel\",3.1,True],[\"AMD\",2.7,False],[\"Motorola\",1.1, False]]\n",
        "\n",
        "lista_nd = [autos,telefonos,sistemas_operativos,procesadores]\n",
        "print(lista_nd)\n",
        "print(lista_nd[2][3])\n",
        "print(lista_nd[1][1][3:7:1])\n",
        "print(lista_nd[3][1][1])\n",
        "print(lista_nd[3][2][0][2:6:1])\n",
        "print(lista_nd[3][0][0][3:0:-1])\n",
        "\n",
        "#concatenar listas\n",
        "colores = [\"rojo\",\"verde\",\"azul\",\"negro\"]\n",
        "flores = [\"margarita\",\"rosa\"]\n",
        "#no se modifican las listas originales\n",
        "nueva = colores + flores\n",
        "print(nueva)\n",
        "print(colores)\n",
        "print(flores)\n",
        " \n",
        "#con extends\n",
        "#la lista original se modifica\n",
        "colores.extend(flores)\n",
        "print(colores)\n",
        "\n",
        "# unpacking de listas\n",
        "print(\"unpacking\")\n",
        "datos_personales = [\"Jose\",\"Perez\",\"Juarez\",22,1.67,True]\n",
        "nombre,paterno,materno,edad,estarura,fuma = datos_personales\n",
        "print(nombre,paterno,materno,edad,estarura,fuma)\n",
        "print(f\"Nombre:{nombre}\\n Edad:{edad}\")\n"
      ],
      "execution_count": null,
      "outputs": [
        {
          "output_type": "stream",
          "text": [
            "[['Mazda', 'honda', 'Akura', 'Ford', 'VW'], ['iPhone', 'Huawei Mate 30', 'Xiaomi S10', 'Alcatel t1000'], ['Windows', 'Linux', 'Android', 'iOS', 'MacOs'], [['intel', 3.1, True], ['AMD', 2.7, False], ['Motorola', 1.1, False]]]\n",
            "iOS\n",
            "wei \n",
            "2.7\n",
            "toro\n",
            "etn\n",
            "['rojo', 'verde', 'azul', 'negro', 'margarita', 'rosa']\n",
            "['rojo', 'verde', 'azul', 'negro']\n",
            "['margarita', 'rosa']\n",
            "['rojo', 'verde', 'azul', 'negro', 'margarita', 'rosa']\n",
            "unpacking\n",
            "Jose Perez Juarez 22 1.67 True\n",
            "Nombre:Jose\n",
            " Edad:22\n"
          ],
          "name": "stdout"
        }
      ]
    },
    {
      "cell_type": "code",
      "metadata": {
        "id": "6SNJ4T32uO4-",
        "outputId": "6f0c0192-aac3-48ed-bfab-2f0273fe6623",
        "colab": {
          "base_uri": "https://localhost:8080/"
        }
      },
      "source": [
        "# Tuplas\n",
        "bd = ('127.0.0.1','root','toor','1345')\n",
        "print(f\"usuario de la bd es { bd[1]}\")\n",
        "#bd[1]='user1'\n",
        "print(bd[1:3])\n"
      ],
      "execution_count": 23,
      "outputs": [
        {
          "output_type": "stream",
          "text": [
            "usuario de la bd es root\n",
            "('root', 'toor')\n"
          ],
          "name": "stdout"
        }
      ]
    },
    {
      "cell_type": "code",
      "metadata": {
        "id": "3QeXY7ARwU0N",
        "outputId": "01d79aab-b32b-4908-874b-610050c5be9b",
        "colab": {
          "base_uri": "https://localhost:8080/"
        }
      },
      "source": [
        "#diccionarios\n",
        "alumno = {'nombre':'juan','edad':22,'carrera':'ICO'}\n",
        "print(alumno)\n",
        "print(alumno['edad'])\n",
        "#diccionarios dentro de diccionarios\n",
        "alumno = {'nombre':'juan',\n",
        "          'edad':22,\n",
        "          'carrera':'ICO',\n",
        "          'direccion':{'calles':'bosques de africa',\n",
        "                       'numero':33,\n",
        "                       'delegacion':'nezahualcoyotl',\n",
        "                       'nombre_estado':'Estado de Mexico'}}\n",
        "print(alumno['direccion'])\n",
        "print(alumno['direccion']['delegacion'])\n",
        "print(alumno['direccion']['delegacion'][3:7:1])\n",
        "print(alumno['direccion']['delegacion'][3:7:1].upper())\n",
        "#modificando diccionario\n",
        "alumno['edad']=35\n",
        "print(alumno)\n",
        "#agregando un campo\n",
        "alumno['promedio']=9.9\n",
        "print(alumno)\n",
        "alumno['direccion']['codigo_posta']=17170\n",
        "print(alumno)\n",
        "alumno['materia']= {'nombre':'CyP','calificacion':10}\n",
        "print(alumno)\n",
        "\n",
        "\n",
        "cliente = {   'id'   :  1 ,  'nombre'  :  'carlos slim' }\n",
        "print(cliente)"
      ],
      "execution_count": 37,
      "outputs": [
        {
          "output_type": "stream",
          "text": [
            "{'nombre': 'juan', 'edad': 22, 'carrera': 'ICO'}\n",
            "22\n",
            "{'calles': 'bosques de africa', 'numero': 33, 'delegacion': 'nezahualcoyotl', 'nombre_estado': 'Estado de Mexico'}\n",
            "nezahualcoyotl\n",
            "ahua\n",
            "AHUA\n",
            "{'nombre': 'juan', 'edad': 35, 'carrera': 'ICO', 'direccion': {'calles': 'bosques de africa', 'numero': 33, 'delegacion': 'nezahualcoyotl', 'nombre_estado': 'Estado de Mexico'}}\n",
            "{'nombre': 'juan', 'edad': 35, 'carrera': 'ICO', 'direccion': {'calles': 'bosques de africa', 'numero': 33, 'delegacion': 'nezahualcoyotl', 'nombre_estado': 'Estado de Mexico'}, 'promedio': 9.9}\n",
            "{'nombre': 'juan', 'edad': 35, 'carrera': 'ICO', 'direccion': {'calles': 'bosques de africa', 'numero': 33, 'delegacion': 'nezahualcoyotl', 'nombre_estado': 'Estado de Mexico', 'codigo_posta': 17170}, 'promedio': 9.9}\n",
            "{'nombre': 'juan', 'edad': 35, 'carrera': 'ICO', 'direccion': {'calles': 'bosques de africa', 'numero': 33, 'delegacion': 'nezahualcoyotl', 'nombre_estado': 'Estado de Mexico', 'codigo_posta': 17170}, 'promedio': 9.9, 'materia': {'nombre': 'CyP', 'calificacion': 10}}\n",
            "{'id': 1, 'nombre': 'carlos slim'}\n"
          ],
          "name": "stdout"
        }
      ]
    }
  ]
}