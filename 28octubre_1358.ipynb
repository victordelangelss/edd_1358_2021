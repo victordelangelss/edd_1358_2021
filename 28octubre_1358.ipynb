{
  "nbformat": 4,
  "nbformat_minor": 0,
  "metadata": {
    "colab": {
      "name": "28octubre_1358.ipynb",
      "provenance": [],
      "authorship_tag": "ABX9TyNWbZ3OSSXnWKS/nmc6aRUC",
      "include_colab_link": true
    },
    "kernelspec": {
      "name": "python3",
      "display_name": "Python 3"
    }
  },
  "cells": [
    {
      "cell_type": "markdown",
      "metadata": {
        "id": "view-in-github",
        "colab_type": "text"
      },
      "source": [
        "<a href=\"https://colab.research.google.com/github/victordelangelss/edd_1358_2021/blob/master/28octubre_1358.ipynb\" target=\"_parent\"><img src=\"https://colab.research.google.com/assets/colab-badge.svg\" alt=\"Open In Colab\"/></a>"
      ]
    },
    {
      "cell_type": "code",
      "metadata": {
        "id": "dgg4lW-YGnJw",
        "outputId": "ce338502-d2e0-4ac8-c87b-92e9db067170",
        "colab": {
          "base_uri": "https://localhost:8080/"
        }
      },
      "source": [
        "#generadores \n",
        "basura = [\"manzana\",\"pera\"]\n",
        "datos = [ x.upper() for x in basura ] #for controla el numero de x que mete\n",
        "print(datos)"
      ],
      "execution_count": 21,
      "outputs": [
        {
          "output_type": "stream",
          "text": [
            "['MANZANA', 'PERA']\n"
          ],
          "name": "stdout"
        }
      ]
    },
    {
      "cell_type": "markdown",
      "metadata": {
        "id": "5crnanIeIVcv"
      },
      "source": [
        "[ [0,0,0],\n",
        "  [0,0,0],\n",
        "  [0,0,0]\n",
        " ]"
      ]
    },
    {
      "cell_type": "code",
      "metadata": {
        "id": "A6WbpNCsIRGK",
        "outputId": "767a210b-2144-4c6e-8e6c-7e6a088d3654",
        "colab": {
          "base_uri": "https://localhost:8080/"
        }
      },
      "source": [
        "# lista de 2 dimenciones\n",
        "#generador dentro de otro generador\n",
        "ren = 4\n",
        "col = 6\n",
        "dos_d = [ [ 0 for x in range(col)] for x in range(ren) ]\n",
        "print(dos_d)\n"
      ],
      "execution_count": 24,
      "outputs": [
        {
          "output_type": "stream",
          "text": [
            "[[0, 0, 0, 0, 0, 0], [0, 0, 0, 0, 0, 0], [0, 0, 0, 0, 0, 0], [0, 0, 0, 0, 0, 0]]\n"
          ],
          "name": "stdout"
        }
      ]
    },
    {
      "cell_type": "code",
      "metadata": {
        "id": "UWR42HUgxbfU",
        "outputId": "33b8d985-92c4-4b6a-a0b7-183bf7cee83f",
        "colab": {
          "base_uri": "https://localhost:8080/"
        }
      },
      "source": [
        "\"\"\"\n",
        "Array\n",
        "\"\"\"\n",
        "class Array:\n",
        "    def __init__( self, tam ):\n",
        "        self.__datos = [ 0 for x in range(tam) ] #generador \n",
        "\n",
        "    def get_item( self, index ):\n",
        "        dato  = 0\n",
        "        if index >= 0 and index < len( self.__datos ): \n",
        "            dato = self.__datos[index]\n",
        "        else:\n",
        "            print(\"Error en el indice\")\n",
        "        return dato\n",
        "\n",
        "    def set_item( self, dato, index):\n",
        "        if index >= 0 and index < len( self.__datos ): \n",
        "            self.__datos[index] = dato\n",
        "        else:\n",
        "            print(\"Error en el indice\")\n",
        "\n",
        "    def get_length( self ):\n",
        "\t\t#Obtener el tamaño del arreglo\n",
        "\t\t    return len( self.__datos )\n",
        "  \n",
        "    def clear( self , dato ):\n",
        "        #establece todos los valores del ADT al valor enviado en dato.\n",
        "\t\t    self.__datos = [dato for x in range(self.__tam)]\n",
        "\n",
        "    def getIterator( self ):\n",
        "            return _getIterator(self.__datos)\n",
        "\n",
        "\n",
        "class _getIterator:\n",
        "    def __init__( self , arreglo ):\n",
        "        self.__arreglo = arreglo\n",
        "        self.__indice_actual = 0\n",
        "\n",
        "    def __iter__( self ):\n",
        "        return self\n",
        "\n",
        "    def __next__( self  ):\n",
        "        if self.__indice_actual < len(self.__arreglo):\n",
        "            dato = self.__arreglo[self.__indice_actual]\n",
        "            self.__indice_actual +=1\n",
        "            return dato\n",
        "        else:\n",
        "            raise StopIteration\n",
        "    def getIterator( self ):\n",
        "        return _getIterator( self.__datos )\n",
        "\n",
        "\n",
        "\n",
        "\n",
        "mi_arreglo = Array(10)\n",
        "print(mi_arreglo.get_item( 20 ))\n",
        "mi_arreglo.set_item( 2345 , 3 )\n",
        "print(mi_arreglo.get_item( 3 ))\n",
        "\n",
        "for x in mi_arreglo.getIterator():\n",
        "    print(x)"
      ],
      "execution_count": 38,
      "outputs": [
        {
          "output_type": "stream",
          "text": [
            "Error en el indice\n",
            "0\n",
            "2345\n",
            "0\n",
            "0\n",
            "0\n",
            "2345\n",
            "0\n",
            "0\n",
            "0\n",
            "0\n",
            "0\n",
            "0\n"
          ],
          "name": "stdout"
        }
      ]
    }
  ]
}