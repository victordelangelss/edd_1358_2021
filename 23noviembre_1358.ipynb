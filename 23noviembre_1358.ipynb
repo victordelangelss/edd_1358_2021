{
  "nbformat": 4,
  "nbformat_minor": 0,
  "metadata": {
    "colab": {
      "name": "23noviembre_1358.ipynb",
      "provenance": [],
      "authorship_tag": "ABX9TyPP5uRnScinqRkH8ZrXjiwm",
      "include_colab_link": true
    },
    "kernelspec": {
      "name": "python3",
      "display_name": "Python 3"
    }
  },
  "cells": [
    {
      "cell_type": "markdown",
      "metadata": {
        "id": "view-in-github",
        "colab_type": "text"
      },
      "source": [
        "<a href=\"https://colab.research.google.com/github/victordelangelss/edd_1358_2021/blob/master/23noviembre_1358.ipynb\" target=\"_parent\"><img src=\"https://colab.research.google.com/assets/colab-badge.svg\" alt=\"Open In Colab\"/></a>"
      ]
    },
    {
      "cell_type": "code",
      "metadata": {
        "id": "pvMw_4Pms7UD"
      },
      "source": [
        "class Nodo: \n",
        "    def __init__( self, dato, siguiente=None ):\n",
        "        self.dato = dato\n",
        "        self.siguiente = siguiente\n",
        "\n",
        "\n",
        "class LinkedList:\n",
        "    def __init__( self ):\n",
        "        self.__head = None\n",
        "\n",
        "#retorna si la lista esta vacia\n",
        "    def is_empty( self ):\n",
        "        return self.__head == None\n",
        "\n",
        "    def tail( self ): #cola del nodo\n",
        "        curr_node = self.__head\n",
        "        while curr_node != None and curr_node.siguiente != None:\n",
        "            curr_node = curr_node.siguiente\n",
        "        return curr_node\n",
        "\n",
        "    def append( self, value ): #agregando un nodo al final\n",
        "        nuevo = Nodo( value )\n",
        "        if self.__head == None:\n",
        "            self.__head = nuevo\n",
        "        else:\n",
        "            self.tail().siguiente = nuevo \n",
        "\n",
        "    def transversal( self ): #recorriendo los nodos\n",
        "        curr_node = self.__head\n",
        "        if curr_node == None:\n",
        "            print(\"lista vacia\")\n",
        "        else:\n",
        "            while curr_node != None:\n",
        "                print(f\" { curr_node.dato } -->\", end=\"\")\n",
        "                curr_node = curr_node.siguiente\n",
        "        print(\"\")\n",
        "\n",
        "    def prepend( self, value ): #agregando un nodo al inicio\n",
        "        nuevo = Nodo( value)\n",
        "        if self.__head == None:\n",
        "            self.__head == nuevo\n",
        "        else:\n",
        "            x = self.__head\n",
        "            self.__head = nuevo\n",
        "            nuevo.siguiente = x\n",
        "\n",
        "\n"
      ],
      "execution_count": 35,
      "outputs": []
    },
    {
      "cell_type": "code",
      "metadata": {
        "colab": {
          "base_uri": "https://localhost:8080/"
        },
        "id": "nGniXIi04Iuu",
        "outputId": "382f7795-883b-46fb-ac30-6321970c173e"
      },
      "source": [
        "l = LinkedList()\n",
        "print(f\"l esta vacia?= { l.is_empty() }\")\n",
        "x = l.tail()\n",
        "print(x)\n",
        "l.append(10)\n",
        "l.append(20)\n",
        "l.append(30)\n",
        "l.append(40)\n",
        "l.transversal()\n",
        "\n",
        "l.prepend(5)\n",
        "l.transversal()"
      ],
      "execution_count": 36,
      "outputs": [
        {
          "output_type": "stream",
          "text": [
            "l esta vacia?= True\n",
            "None\n",
            " 10 --> 20 --> 30 --> 40 -->\n",
            " 5 --> 10 --> 20 --> 30 --> 40 -->\n"
          ],
          "name": "stdout"
        }
      ]
    }
  ]
}