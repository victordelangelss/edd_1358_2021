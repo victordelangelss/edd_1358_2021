{
  "nbformat": 4,
  "nbformat_minor": 0,
  "metadata": {
    "colab": {
      "name": "25noviembre_1358.ipynb",
      "provenance": [],
      "collapsed_sections": [],
      "authorship_tag": "ABX9TyNo4zki7EcdNSezwas/z8SO",
      "include_colab_link": true
    },
    "kernelspec": {
      "name": "python3",
      "display_name": "Python 3"
    }
  },
  "cells": [
    {
      "cell_type": "markdown",
      "metadata": {
        "id": "view-in-github",
        "colab_type": "text"
      },
      "source": [
        "<a href=\"https://colab.research.google.com/github/victordelangelss/edd_1358_2021/blob/master/25noviembre_1358.ipynb\" target=\"_parent\"><img src=\"https://colab.research.google.com/assets/colab-badge.svg\" alt=\"Open In Colab\"/></a>"
      ]
    },
    {
      "cell_type": "code",
      "metadata": {
        "id": "5xFc72VSGgks"
      },
      "source": [
        "class NodoDoble:\n",
        "    def __init__( self, value, previo = None, siguiente = None ):\n",
        "        self.data = value\n",
        "        self.prev = previo\n",
        "        self.next = siguiente\n",
        "\n",
        "class DobleLinkedList:\n",
        "    def __init__( self ):\n",
        "        self.__head = None\n",
        "        self.__tail = None\n",
        "        self.__size = 0\n",
        "\n",
        "    def get_size( self ):\n",
        "        return self.__size\n",
        "\n",
        "    def is_empty( self ):\n",
        "        return self.__size == 0\n",
        "\n",
        "    def append( self, value ):\n",
        "        if self.is_empty() :\n",
        "            nuevo = NodoDoble( value )\n",
        "            self.__head = nuevo\n",
        "            self.__tail = nuevo\n",
        "        else:\n",
        "            nuevo = NodoDoble( value, self.__tail, None )\n",
        "            self.__tail.next = nuevo\n",
        "            self.__tail = nuevo\n",
        "\n",
        "        self.__size += 1\n",
        "\n",
        "    def transversal( self ):\n",
        "        curr_node = self.__head\n",
        "        while curr_node != None:\n",
        "            print(\"<--\", curr_node.data, \"-->\", end=\"\")\n",
        "            curr_node = curr_node.next\n",
        "        print(\"\")\n",
        "\n",
        "    def remove_from_head( self, value ):\n",
        "        if self.is_empty():\n",
        "            pass\n",
        "        else:\n",
        "            curr_node = self.__head\n",
        "            while curr_node.data != value and curr_node != None:\n",
        "                curr_node = curr_node.next\n",
        "            if curr_node.data == value: # que pasa si el que queremos eliminar esta en head\n",
        "                curr_node.prev.next = curr_node.next\n",
        "                curr_node.next.prev = curr_node.prev\n",
        "            self.__size -= 1\n",
        "\n",
        "\n",
        "\n"
      ],
      "execution_count": 17,
      "outputs": []
    },
    {
      "cell_type": "code",
      "metadata": {
        "colab": {
          "base_uri": "https://localhost:8080/"
        },
        "id": "8jaOYKbKRkHJ",
        "outputId": "f7bf89db-9488-4e71-fc61-9d709b7cb4f4"
      },
      "source": [
        "ldl = DobleLinkedList()\n",
        "print(ldl.get_size())\n",
        "ldl.append( 10 )\n",
        "print(ldl.get_size())\n",
        "\n",
        "ldl.transversal()\n",
        "ldl.append( 20 )\n",
        "ldl.append( 30 )\n",
        "ldl.append( 40 )\n",
        "print(ldl.get_size())\n",
        "ldl.transversal()\n",
        "\n",
        "ldl.remove_from_head(20)\n",
        "ldl.transversal()"
      ],
      "execution_count": 18,
      "outputs": [
        {
          "output_type": "stream",
          "text": [
            "0\n",
            "1\n",
            "<-- 10 -->\n",
            "4\n",
            "<-- 10 --><-- 20 --><-- 30 --><-- 40 -->\n",
            "<-- 10 --><-- 30 --><-- 40 -->\n"
          ],
          "name": "stdout"
        }
      ]
    }
  ]
}