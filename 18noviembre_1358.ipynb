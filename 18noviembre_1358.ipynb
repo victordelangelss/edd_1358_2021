{
  "nbformat": 4,
  "nbformat_minor": 0,
  "metadata": {
    "colab": {
      "name": "18noviembre_1358.ipynb",
      "provenance": [],
      "authorship_tag": "ABX9TyMPZ7uY0oXteJycelwdv5B6",
      "include_colab_link": true
    },
    "kernelspec": {
      "name": "python3",
      "display_name": "Python 3"
    }
  },
  "cells": [
    {
      "cell_type": "markdown",
      "metadata": {
        "id": "view-in-github",
        "colab_type": "text"
      },
      "source": [
        "<a href=\"https://colab.research.google.com/github/victordelangelss/edd_1358_2021/blob/master/18noviembre_1358.ipynb\" target=\"_parent\"><img src=\"https://colab.research.google.com/assets/colab-badge.svg\" alt=\"Open In Colab\"/></a>"
      ]
    },
    {
      "cell_type": "code",
      "metadata": {
        "colab": {
          "base_uri": "https://localhost:8080/"
        },
        "id": "jP5b7_Pg6VtK",
        "outputId": "3aca202b-be4f-481b-e31c-3dcf2d5c3931"
      },
      "source": [
        "class Nodo: \n",
        "    def __init__(self, dato):\n",
        "        self.__dato = dato\n",
        "        self.__siguiente = None\n",
        "    def get_dato(self):\n",
        "        return self.__dato\n",
        "    def set_dato(self, d):\n",
        "        self.__dato = d\n",
        "    def get_siguiente(self):\n",
        "        return self.__siguiente\n",
        "    def set_siguiente(self,d):\n",
        "        self.__siguiente = d\n",
        "    def to_string(self):\n",
        "        return \" | \"+ str(self.__dato)+\" | \"+str(self.__siguiente)+\" |--->\"\n",
        "\n",
        "    def show( self ):\n",
        "        curr_node = self # Head, funcion de pibote\n",
        "        print(\"Inicio de la estructura ligada:\")\n",
        "        print(\"|\" + str(curr_node.get_dato()) + \"| -->\" , end =\"\" )\n",
        "        while( curr_node.get_siguiente() != None ):\n",
        "            curr_node = curr_node.get_siguiente()\n",
        "            print(\"|\" + str(curr_node.get_dato() ) + \"| -->\" , end =\"\" )\n",
        "        print(\"\\nFin\")\n",
        "\n",
        "\n",
        "#Ejemplo 1\n",
        "a = Nodo(10)\n",
        "a.show()\n",
        "\n",
        "#Ejemplo 2\n",
        "a.set_siguiente( Nodo(20) )\n",
        "a.show()\n",
        "\n",
        "#Ejemplo 3\n",
        "a.get_siguiente().set_siguiente( Nodo(30))\n",
        "a.show()\n",
        "\n",
        "#Ejemplo 4\n",
        "a.get_siguiente().get_siguiente().set_siguiente( Nodo(40))\n",
        "a.show()\n",
        "\n",
        "#Ejemplo 5\n",
        "a.get_siguiente().get_siguiente().get_siguiente().set_siguiente( Nodo(50))\n",
        "a.show()\n",
        "\n",
        "#Ejemplo 6\n",
        "a.set_dato(12)\n",
        "a.show()\n",
        "\n",
        "#Ejemplo 7 \n",
        "a.get_siguiente().get_siguiente().set_siguiente(Nodo(45))\n",
        "a.show()\n",
        "\n",
        "#Ejemplo 8\n",
        "a.get_siguiente().get_siguiente().get_siguiente().set_siguiente( Nodo(60))\n",
        "a.show()\n",
        "\n",
        "#Ejemplo 9\n",
        "a.get_siguiente().set_dato(25)\n",
        "a.show()"
      ],
      "execution_count": 1,
      "outputs": [
        {
          "output_type": "stream",
          "text": [
            "Inicio de la estructura ligada:\n",
            "|10| -->\n",
            "Fin\n",
            "Inicio de la estructura ligada:\n",
            "|10| -->|20| -->\n",
            "Fin\n",
            "Inicio de la estructura ligada:\n",
            "|10| -->|20| -->|30| -->\n",
            "Fin\n",
            "Inicio de la estructura ligada:\n",
            "|10| -->|20| -->|30| -->|40| -->\n",
            "Fin\n",
            "Inicio de la estructura ligada:\n",
            "|10| -->|20| -->|30| -->|40| -->|50| -->\n",
            "Fin\n",
            "Inicio de la estructura ligada:\n",
            "|12| -->|20| -->|30| -->|40| -->|50| -->\n",
            "Fin\n",
            "Inicio de la estructura ligada:\n",
            "|12| -->|20| -->|30| -->|45| -->\n",
            "Fin\n",
            "Inicio de la estructura ligada:\n",
            "|12| -->|20| -->|30| -->|45| -->|60| -->\n",
            "Fin\n",
            "Inicio de la estructura ligada:\n",
            "|12| -->|25| -->|30| -->|45| -->|60| -->\n",
            "Fin\n"
          ],
          "name": "stdout"
        }
      ]
    },
    {
      "cell_type": "code",
      "metadata": {
        "colab": {
          "base_uri": "https://localhost:8080/"
        },
        "id": "D2Gg79rFH4wY",
        "outputId": "40edf89e-dfbb-4b43-eb14-f3f70d3a0962"
      },
      "source": [
        "class Nodo: \n",
        "    def __init__(self, dato):\n",
        "        self.dato = dato\n",
        "        self.siguiente = None\n",
        "\n",
        "#Ejemplo 1\n",
        "a=Nodo(10)\n",
        "\n",
        "print(a.dato)\n",
        "print(a.siguiente)\n",
        "\n",
        "#Ejemplo 2\n",
        "a.siguiente = Nodo(20)\n",
        "\n",
        "#Ejemplo 3\n",
        "a.siguiente.siguiente=Nodo(30)\n",
        "\n",
        "#Ejemplo4\n",
        "a.siguiente.siguiente.siguiente=Nodo(40)\n",
        "\n",
        "#Ejemplo 5\n",
        "a.siguiente.siguiente.siguiente.siguiente=Nodo(50)\n",
        "\n",
        "#Recorrido transversal\n",
        "curr_node = a\n",
        "print(curr_node.dato , \"--> \" , end=\"\")\n",
        "while( curr_node.siguiente != None):\n",
        "    curr_node = curr_node.siguiente\n",
        "    print(curr_node.dato, \"--> \" , end=\"\")\n",
        "print(\"\")\n",
        "\n",
        "#Ejemplo 6\n",
        "a.siguiente.siguiente.siguiente.dato=45\n",
        "\n",
        "#Ejemplo 7\n",
        "a.siguiente.siguiente.dato=35\n",
        "\n",
        "#Ejemplo 8\n",
        "a.siguiente.siguiente = a.siguiente.siguiente.siguiente\n",
        "\n",
        "#Ejemplo 9\n",
        "a.siguiente = a.siguiente.siguiente.siguiente.siguiente\n",
        "\n",
        "\n",
        "\n",
        "#Recorrido transversal\n",
        "curr_node = a\n",
        "print(curr_node.dato , \"--> \" , end=\"\")\n",
        "while( curr_node.siguiente != None):\n",
        "    curr_node = curr_node.siguiente\n",
        "    print(curr_node.dato, \"--> \" , end=\"\")\n",
        "print(\"\")"
      ],
      "execution_count": 2,
      "outputs": [
        {
          "output_type": "stream",
          "text": [
            "10\n",
            "None\n",
            "10 --> 20 --> 30 --> 40 --> 50 --> \n",
            "10 --> \n"
          ],
          "name": "stdout"
        }
      ]
    },
    {
      "cell_type": "code",
      "metadata": {
        "colab": {
          "base_uri": "https://localhost:8080/"
        },
        "id": "_M3RI5IrJN0x",
        "outputId": "43eef3b0-cf00-448b-8850-3e4da4629c69"
      },
      "source": [
        "#codigo del 18 de noviembre \n",
        "class Nodo: \n",
        "    def __init__( self, dato, siguiente=None ):\n",
        "        self.dato = dato\n",
        "        self.siguiente = siguiente\n",
        "        \n",
        "head = Nodo( 10, Nodo( 20, Nodo( 30, Nodo( 40, Nodo( 50) ) ) ) )\n",
        "\n",
        "#Recorrido transversal\n",
        "curr_node = head\n",
        "print(curr_node.dato , \"--> \" , end=\"\")\n",
        "while( curr_node.siguiente != None):\n",
        "    curr_node = curr_node.siguiente\n",
        "    print(curr_node.dato, \"--> \" , end=\"\")\n",
        "print(\"\")\n",
        "\n",
        "#insertando el nodo 35 despues de 30\n",
        "anterior = head.siguiente.siguiente\n",
        "print(anterior.dato)\n",
        "nuevo = Nodo(35)\n",
        "nuevo.siguiente = anterior.siguiente\n",
        "print(nuevo.siguiente.dato)\n",
        "anterior.siguiente = nuevo\n",
        "\n",
        "#Recorrido transversal\n",
        "curr_node = head\n",
        "print(curr_node.dato , \"--> \" , end=\"\")\n",
        "while( curr_node.siguiente != None):\n",
        "    curr_node = curr_node.siguiente\n",
        "    print(curr_node.dato, \"--> \" , end=\"\")\n",
        "print(\"\")\n",
        "\n",
        "#eliminando el nodo 20\n",
        "head.siguiente = head.siguiente.siguiente\n",
        "\n",
        "#Recorrido transversal\n",
        "curr_node = head\n",
        "print(curr_node.dato , \"--> \" , end=\"\")\n",
        "while( curr_node.siguiente != None):\n",
        "    curr_node = curr_node.siguiente\n",
        "    print(curr_node.dato, \"--> \" , end=\"\")\n",
        "print(\"\")\n"
      ],
      "execution_count": 8,
      "outputs": [
        {
          "output_type": "stream",
          "text": [
            "10 --> 20 --> 30 --> 40 --> 50 --> \n",
            "30\n",
            "40\n",
            "10 --> 20 --> 30 --> 35 --> 40 --> 50 --> \n",
            "10 --> 30 --> 35 --> 40 --> 50 --> \n"
          ],
          "name": "stdout"
        }
      ]
    },
    {
      "cell_type": "code",
      "metadata": {
        "id": "X-FHT_GIVX8T"
      },
      "source": [
        "class Nodo: \n",
        "    def __init__( self, dato, siguiente=None ):\n",
        "        self.dato = dato\n",
        "        self.siguiente = siguiente\n",
        "\n",
        "\n",
        "class LinckedList:\n",
        "    def __init__( self ):\n",
        "        self.__head = None\n",
        "\n",
        "#retorna si la lista esta vacia\n",
        "    def is_empty( self ):\n",
        "        return self.__head == None\n",
        "\n",
        "    def"
      ],
      "execution_count": null,
      "outputs": []
    }
  ]
}