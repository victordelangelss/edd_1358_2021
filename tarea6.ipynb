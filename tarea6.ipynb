{
  "nbformat": 4,
  "nbformat_minor": 0,
  "metadata": {
    "colab": {
      "name": "tarea6.ipynb",
      "provenance": [],
      "authorship_tag": "ABX9TyMwe9TCCwnLE/6UxUO8PYtk",
      "include_colab_link": true
    },
    "kernelspec": {
      "name": "python3",
      "display_name": "Python 3"
    }
  },
  "cells": [
    {
      "cell_type": "markdown",
      "metadata": {
        "id": "view-in-github",
        "colab_type": "text"
      },
      "source": [
        "<a href=\"https://colab.research.google.com/github/victordelangelss/edd_1358_2021/blob/master/tarea6.ipynb\" target=\"_parent\"><img src=\"https://colab.research.google.com/assets/colab-badge.svg\" alt=\"Open In Colab\"/></a>"
      ]
    },
    {
      "cell_type": "code",
      "metadata": {
        "id": "DFlFQM5EEyDm"
      },
      "source": [
        "class Nodo:\n",
        "    def __init__( self , value, siguiente = None ):\n",
        "        self.data = value\n",
        "        self.next = siguiente\n",
        "        \n",
        "class CircularList( ):\n",
        "\tdef __init__(self):\n",
        "\t\tself.__ref = None\n",
        "\t\tself.__size = 0\n",
        "\n",
        "\tdef is_empty(self):\n",
        "\t\treturn self.__size == 0\n",
        "\n",
        "\tdef insert(self, value ):\n",
        "\t\t\n",
        "\t\tif self.__ref == None:\n",
        "\t\t\tself.__ref = Nodo(value)\n",
        "\n",
        "\t\telif value >= self.__ref.data and self.__ref.next == None:\n",
        "\t\t\tself.__ref.next = Nodo(value,self.__ref)\n",
        "\t\t\tself.__ref = self.__ref.next\n",
        "\n",
        "\t\telif value >= self.__ref.data:\n",
        "\t\t\tself.__ref.next = Nodo(value,self.__ref.next)\n",
        "\t\t\tself.__ref = self.__ref.next\n",
        "\n",
        "\t\telif value <= self.__ref.data and self.__ref.next == None: \n",
        "\t\t\tself.__ref.next = Nodo(value,self.__ref)\n",
        "\n",
        "\t\telif value <= self.__ref.next.data:\n",
        "\t\t\tself.__ref.next = Nodo(value,self.__ref.next)\n",
        "\n",
        "\t\telse:\n",
        "\t\t\tcurr_node = self.__ref.next\n",
        "\t\t\twhile curr_node.data != self.__ref.data:\n",
        "\t\t\t\tif value > curr_node.data and value < curr_node.next.data:\n",
        "\t\t\t\t\tcurr_node.next = Nodo(value,curr_node.next)\n",
        "\t\t\t\tcurr_node = curr_node.next\n",
        "\n",
        "\t\tself.__size += 1\n",
        "\n",
        "\tdef transversal(self):\n",
        "\t\tcurr_node = self.__ref.next\n",
        "\t\tif self.__ref != None:\n",
        "\t\t\tif self.__ref.next != None:\n",
        "\t\t\t\tfor i in range(self.__size):\n",
        "\t\t\t\t\tprint(curr_node.data, \"-->\" , end=\"\")\n",
        "\t\t\t\t\tcurr_node = curr_node.next\n",
        "\t\t\t\tprint('\\n')\n",
        "\t\t\telse:\n",
        "\t\t\t\tprint(self.__ref.data, \"-->\" , end=\"\")\n",
        "\t\t\t\tprint('\\n')\n",
        "\t\telse:\n",
        "\t\t\tprint('vacia')\n",
        "\n",
        "\tdef search(self, value ):\n",
        "\t\tcurr_node = self.__ref\n",
        "\t\tif self.__ref != None:\n",
        "\t\t\tfor i in range(self.__size):\n",
        "\t\t\t\tif curr_node.data == value:\n",
        "\t\t\t\t\treturn (f\"el valor es {value}\") \n",
        "     \n",
        "\t\t\t\tcurr_node = curr_node.next\n",
        "\t\treturn 'no esta en la lista' \n",
        "            \n",
        "\n",
        "\tdef remove(self,value):\n",
        "\n",
        "\t\tcurr_node = self.__ref\n",
        "\t\tif self.__ref != None:\n",
        "\t\t\tfor i in range(self.__size):\n",
        "\t\t\t\tif curr_node.next.data == value:\n",
        "\t\t\t\t\tcurr_node.next = curr_node.next.next\n",
        "\t\t\t\t\tself.__size -= 1\n",
        "\t\t\t\t\treturn None\n",
        "\t\t\t\telse:\n",
        "\t\t\t\t\tcurr_node = curr_node.next\n"
      ],
      "execution_count": 19,
      "outputs": []
    },
    {
      "cell_type": "code",
      "metadata": {
        "colab": {
          "base_uri": "https://localhost:8080/"
        },
        "id": "nh-64ohuu_1-",
        "outputId": "c0e21255-a7b8-4866-8666-a06e8958dc18"
      },
      "source": [
        "lc = CircularList()\n",
        "\n",
        "lc.insert(14)\n",
        "lc.transversal()\n",
        "lc.insert(38)\n",
        "lc.insert(54)\n",
        "lc.insert(3)\n",
        "lc.insert(65)\n",
        "\n",
        "lc.transversal()\n",
        "\n",
        "print(lc.search(11))\n",
        "print(lc.search(3))\n",
        "\n",
        "lc.remove(65)\n",
        "lc.remove(14)\n",
        "lc.remove(4)\n",
        "\n",
        "lc.transversal()"
      ],
      "execution_count": 20,
      "outputs": [
        {
          "output_type": "stream",
          "text": [
            "14 -->\n",
            "\n",
            "3 -->14 -->38 -->54 -->65 -->\n",
            "\n",
            "no esta en la lista\n",
            "el valor es 3\n",
            "3 -->38 -->54 -->\n",
            "\n"
          ],
          "name": "stdout"
        }
      ]
    }
  ]
}