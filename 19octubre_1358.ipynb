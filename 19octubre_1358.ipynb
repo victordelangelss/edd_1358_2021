{
  "nbformat": 4,
  "nbformat_minor": 0,
  "metadata": {
    "colab": {
      "name": "19octubre_1358.ipynb",
      "provenance": [],
      "authorship_tag": "ABX9TyMf+Vuk9ZCQ7I1AO64navUk",
      "include_colab_link": true
    },
    "kernelspec": {
      "name": "python3",
      "display_name": "Python 3"
    }
  },
  "cells": [
    {
      "cell_type": "markdown",
      "metadata": {
        "id": "view-in-github",
        "colab_type": "text"
      },
      "source": [
        "<a href=\"https://colab.research.google.com/github/victordelangelss/edd_1358_2021/blob/master/19octubre_1358.ipynb\" target=\"_parent\"><img src=\"https://colab.research.google.com/assets/colab-badge.svg\" alt=\"Open In Colab\"/></a>"
      ]
    },
    {
      "cell_type": "code",
      "metadata": {
        "id": "2EN_BOQLc5mU",
        "outputId": "5dc9f9aa-79b1-478e-e5f9-c4aa8c7b2d0e",
        "colab": {
          "base_uri": "https://localhost:8080/",
          "height": 68
        }
      },
      "source": [
        "# read() sirve para leer un carchivo completo\n",
        "archivo = open('sample_data/frutas.txt','rt')\n",
        "\n",
        "data = archivo.read()\n",
        "print(data.upper())\n",
        "\n",
        "archivo.close()\n",
        "\n"
      ],
      "execution_count": 3,
      "outputs": [
        {
          "output_type": "stream",
          "text": [
            "LIMON, AGUACATE, FRESA, MANZANA\n",
            "CIRUELA, CAPULIN, NARANJA\n",
            "PERA, KIWI\n"
          ],
          "name": "stdout"
        }
      ]
    },
    {
      "cell_type": "code",
      "metadata": {
        "id": "U2ejrJz2d_M8",
        "outputId": "3d06c714-3c5c-4dbb-eec8-f8dfe57a05bc",
        "colab": {
          "base_uri": "https://localhost:8080/",
          "height": 102
        }
      },
      "source": [
        "#readLine() sirve para leer solo una linea de un archivo\n",
        "archivo = open('sample_data/frutas.txt','rt')\n",
        " \n",
        "print(archivo.readline())\n",
        "data = archivo.readline()\n",
        "while data != \"\":\n",
        "    print(data)\n",
        "    data = archivo.readline()\n",
        "\n",
        "archivo.close()"
      ],
      "execution_count": 29,
      "outputs": [
        {
          "output_type": "stream",
          "text": [
            "limon, aguacate, fresa, manzana\n",
            "\n",
            "ciruela, capulin, naranja\n",
            "\n",
            "pera, kiwi\n"
          ],
          "name": "stdout"
        }
      ]
    },
    {
      "cell_type": "code",
      "metadata": {
        "id": "B0r2iH6Tgcot",
        "outputId": "0304223a-782e-4574-bd60-b037b6393698",
        "colab": {
          "base_uri": "https://localhost:8080/",
          "height": 51
        }
      },
      "source": [
        "#readlines()\n",
        "\n",
        "archivo = open('sample_data/frutas.txt','rt')\n",
        "data = archivo.readlines()\n",
        "\n",
        "print(data)\n",
        "\n",
        "frutas = []\n",
        "for linea in data:\n",
        "    frutas.append(linea.strip())\n",
        "\n",
        "frutas_final =[]\n",
        "for elem in frutas:\n",
        "    for fruta in elem.split(','):\n",
        "        frutas_final.append(fruta.strip())\n",
        "\n",
        "print(frutas_final)\n",
        "archivo.close()"
      ],
      "execution_count": 30,
      "outputs": [
        {
          "output_type": "stream",
          "text": [
            "['limon, aguacate, fresa, manzana\\n', 'ciruela, capulin, naranja\\n', 'pera, kiwi']\n",
            "['limon', 'aguacate', 'fresa', 'manzana', 'ciruela', 'capulin', 'naranja', 'pera', 'kiwi']\n"
          ],
          "name": "stdout"
        }
      ]
    },
    {
      "cell_type": "markdown",
      "metadata": {
        "id": "aImmrKAalGs8"
      },
      "source": [
        "# POO con python\n",
        "- clases\n",
        "- objetos\n",
        "- atributos\n",
        "- metodos\n",
        "- metodo constructor.\n",
        "- encapsulamiento (publico y privado)\n",
        "- herencia\n",
        "\n",
        "Declarar clases en python se usa la palablra reservada Class"
      ]
    },
    {
      "cell_type": "code",
      "metadata": {
        "id": "ljT6FAZklpce",
        "outputId": "c9fb2377-ebd8-41d7-aead-c8a255b98643",
        "colab": {
          "base_uri": "https://localhost:8080/",
          "height": 51
        }
      },
      "source": [
        "#clases\n",
        "# declaramos atributos privados con __\n",
        "class Persona:\n",
        "    def __init__( self, edd, est ):\n",
        "        self.__edad = edd\n",
        "        self.__estatura = est\n",
        "\n",
        "    def to_string( self ):\n",
        "        print(f\"Edad = {self.__edad}, est = {self.__estatura}\")\n",
        "\n",
        "per1 =  Persona(23, 1.78)\n",
        "per1.to_string()\n",
        "per1.estatura = 10.4\n",
        "per1.to_string()\n",
        "# siguiente clase seguimos con encapsulamiento\n"
      ],
      "execution_count": 27,
      "outputs": [
        {
          "output_type": "stream",
          "text": [
            "Edad = 23, est = 1.78\n",
            "Edad = 23, est = 1.78\n"
          ],
          "name": "stdout"
        }
      ]
    }
  ]
}