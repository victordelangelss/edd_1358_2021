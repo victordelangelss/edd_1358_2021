{
  "nbformat": 4,
  "nbformat_minor": 0,
  "metadata": {
    "colab": {
      "name": "tarea10.ipynb",
      "provenance": [],
      "authorship_tag": "ABX9TyPVaKs/grC8Ff1087O3x8aw",
      "include_colab_link": true
    },
    "kernelspec": {
      "name": "python3",
      "display_name": "Python 3"
    }
  },
  "cells": [
    {
      "cell_type": "markdown",
      "metadata": {
        "id": "view-in-github",
        "colab_type": "text"
      },
      "source": [
        "<a href=\"https://colab.research.google.com/github/victordelangelss/edd_1358_2021/blob/master/tarea10.ipynb\" target=\"_parent\"><img src=\"https://colab.research.google.com/assets/colab-badge.svg\" alt=\"Open In Colab\"/></a>"
      ]
    },
    {
      "cell_type": "code",
      "metadata": {
        "colab": {
          "base_uri": "https://localhost:8080/"
        },
        "id": "VzalCqvv3AA9",
        "outputId": "681972a8-5637-4e74-f666-c30129d7a55d"
      },
      "source": [
        "def SumaEnteros( list ):\r\n",
        "    suma = 0\r\n",
        "    for x in range(len(list)):\r\n",
        "        suma += list[x]\r\n",
        "    return print(suma)\r\n",
        "\r\n",
        "SumaEnteros([45,90,60,12,31])"
      ],
      "execution_count": 1,
      "outputs": [
        {
          "output_type": "stream",
          "text": [
            "238\n"
          ],
          "name": "stdout"
        }
      ]
    },
    {
      "cell_type": "code",
      "metadata": {
        "colab": {
          "base_uri": "https://localhost:8080/"
        },
        "id": "Lq3cBPmY3CeY",
        "outputId": "9ba20110-6a27-4535-c43f-89892da160c6"
      },
      "source": [
        "def printRev( n ):\r\n",
        "    if n > 0:\r\n",
        "        print( n )\r\n",
        "        printRev( n-1 )\r\n",
        "        \r\n",
        "printRev( 10 )"
      ],
      "execution_count": 4,
      "outputs": [
        {
          "output_type": "stream",
          "text": [
            "10\n",
            "9\n",
            "8\n",
            "7\n",
            "6\n",
            "5\n",
            "4\n",
            "3\n",
            "2\n",
            "1\n"
          ],
          "name": "stdout"
        }
      ]
    }
  ]
}