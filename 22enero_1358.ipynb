{
  "nbformat": 4,
  "nbformat_minor": 0,
  "metadata": {
    "colab": {
      "name": "22enero_1358.ipynb",
      "provenance": [],
      "authorship_tag": "ABX9TyOpRfAb/1Bo07N1ELZYQfQ0",
      "include_colab_link": true
    },
    "kernelspec": {
      "name": "python3",
      "display_name": "Python 3"
    }
  },
  "cells": [
    {
      "cell_type": "markdown",
      "metadata": {
        "id": "view-in-github",
        "colab_type": "text"
      },
      "source": [
        "<a href=\"https://colab.research.google.com/github/victordelangelss/edd_1358_2021/blob/master/22enero_1358.ipynb\" target=\"_parent\"><img src=\"https://colab.research.google.com/assets/colab-badge.svg\" alt=\"Open In Colab\"/></a>"
      ]
    },
    {
      "cell_type": "code",
      "metadata": {
        "id": "7xkBYXTC0W0_"
      },
      "source": [
        "class NodoArbol:\r\n",
        "    def __init__( self, value, left=None, right=None ):\r\n",
        "        self.data = value\r\n",
        "        self.left = left\r\n",
        "        self.right = right"
      ],
      "execution_count": 12,
      "outputs": []
    },
    {
      "cell_type": "code",
      "metadata": {
        "id": "-EUp_mwK4SEu"
      },
      "source": [
        "class ArbolBinarioBusqueda:\r\n",
        "    def __init__( self ):\r\n",
        "        self.__root = None\r\n",
        "\r\n",
        "    def insert( self, value ):\r\n",
        "        if self.__root == None:\r\n",
        "            self.__root = NodoArbol( value )\r\n",
        "        else:\r\n",
        "            self.__insert__( self.__root, value )\r\n",
        "\r\n",
        "    def __insert__( self, nodo, value ): # recursividad\r\n",
        "        if nodo.data == value:\r\n",
        "            print(\"El nodo ya existe, no se inserta:\", value)\r\n",
        "        elif value < nodo.data:\r\n",
        "            #ir a la izq\r\n",
        "            if nodo.left == None:\r\n",
        "                nodo.left = NodoArbol( value, None, None )\r\n",
        "            else:\r\n",
        "                self.__insert__( nodo.left, value )\r\n",
        "        else:\r\n",
        "            #ir a la derecha\r\n",
        "            if nodo.right == None:\r\n",
        "                nodo.right = NodoArbol( value, None, None )\r\n",
        "            else:\r\n",
        "                self.__insert__( nodo.right, value )\r\n",
        "\r\n",
        "    def transversal( self, format=\"in\" ): # in, pos, pre\r\n",
        "        if format==\"in\" :\r\n",
        "            print(\"\\nrecorrido in\")\r\n",
        "            self.__recorrido_in( self.__root )\r\n",
        "        elif format==\"pre\":\r\n",
        "            print(\"\\nrecorrido en pre orden\")\r\n",
        "            self.__recorrido_pre( self.__root)\r\n",
        "        elif format==\"pos\":\r\n",
        "            print(\"\\nrecorrido en pos orden\")\r\n",
        "            self.__recorrido_pos( self.__root)\r\n",
        "        else:\r\n",
        "            print(\"\\nformato no valido\")\r\n",
        "    \r\n",
        "    def __recorrido_in( self, nodo ):\r\n",
        "        if nodo == None:\r\n",
        "            #print(\"Caso base\")\r\n",
        "            pass\r\n",
        "        else:\r\n",
        "            self.__recorrido_in( nodo.left )\r\n",
        "            print(nodo.data, end=\",\" )\r\n",
        "            self.__recorrido_in( nodo.right )\r\n",
        "\r\n",
        "    def __recorrido_pre( self, nodo ):\r\n",
        "        if nodo == None:\r\n",
        "            #print(\"Caso base\")\r\n",
        "            pass\r\n",
        "        else:\r\n",
        "            print(nodo.data, end=\",\" )\r\n",
        "            self.__recorrido_pre( nodo.left )\r\n",
        "            self.__recorrido_pre( nodo.right )\r\n",
        "\r\n",
        "    def __recorrido_pos( self, nodo ):\r\n",
        "        if nodo == None:\r\n",
        "            #print(\"Caso base\")\r\n",
        "            pass\r\n",
        "        else:\r\n",
        "            self.__recorrido_pos( nodo.left )\r\n",
        "            self.__recorrido_pos( nodo.right )\r\n",
        "            print(nodo.data, end=\",\" )\r\n",
        "\r\n",
        "    def search( self, value ):\r\n",
        "        if self.__root == None:\r\n",
        "            print(\"Arbol vacio\")\r\n",
        "        else:\r\n",
        "            return self.__search( self.__root, value)\r\n",
        "\r\n",
        "    def __search( self, nodo, value ):\r\n",
        "        if nodo == None:\r\n",
        "            return None\r\n",
        "        elif nodo.data == value:\r\n",
        "            return nodo\r\n",
        "        elif value < nodo.data:\r\n",
        "            print(\"ir a la izquierda\")\r\n",
        "            return self.__search( nodo.left, value)\r\n",
        "        else:\r\n",
        "            print(\"ir a la derecha\")\r\n",
        "            return self.__search( nodo.right, value )\r\n",
        "\r\n",
        "\r\n"
      ],
      "execution_count": 48,
      "outputs": []
    },
    {
      "cell_type": "code",
      "metadata": {
        "colab": {
          "base_uri": "https://localhost:8080/"
        },
        "id": "Sagbi6xr4Vsd",
        "outputId": "09717ac1-623c-47c3-a754-1b68846d07cf"
      },
      "source": [
        "abb = ArbolBinarioBusqueda()\r\n",
        "\r\n",
        "abb.insert( 50 )\r\n",
        "abb.insert( 30 )\r\n",
        "abb.insert( 60 )\r\n",
        "abb.insert( 35 )\r\n",
        "abb.insert( 89 )\r\n",
        "abb.insert( 70 )\r\n",
        "abb.insert( 1 )\r\n",
        "\r\n",
        "abb.transversal( 'in' )\r\n",
        "\r\n",
        "abb.transversal( 'pre' )\r\n",
        "\r\n",
        "abb.transversal( 'pos' )\r\n",
        " \r\n",
        "res = abb.search( 70 )\r\n",
        "print(f\"el nodo es:{res.data}, hijo izquierdo {res.left} hijo derecho {res.right}\")\r\n",
        "\r\n",
        "res = abb.search( 30 )\r\n",
        "print(f\"el nodo es:{res.data}, hijo izquierdo {res.left.data} hijo derecho {res.right.data}\")\r\n",
        "\r\n",
        "res = abb.search( 89 )\r\n",
        "print(f\"el nodo es:{res.data}, hijo izquierdo {res.left.data} hijo derecho {res.right}\")"
      ],
      "execution_count": 49,
      "outputs": [
        {
          "output_type": "stream",
          "text": [
            "\n",
            "recorrido in\n",
            "1,30,35,50,60,70,89,\n",
            "recorrido en pre orden\n",
            "50,30,1,35,60,89,70,\n",
            "recorrido en pos orden\n",
            "1,35,30,70,89,60,50,ir a la derecha\n",
            "ir a la derecha\n",
            "ir a la izquierda\n",
            "el nodo es:70, hijo izquierdo None hijo derecho None\n",
            "ir a la izquierda\n",
            "el nodo es:30, hijo izquierdo 1 hijo derecho 35\n",
            "ir a la derecha\n",
            "ir a la derecha\n",
            "el nodo es:89, hijo izquierdo 70 hijo derecho None\n"
          ],
          "name": "stdout"
        }
      ]
    }
  ]
}