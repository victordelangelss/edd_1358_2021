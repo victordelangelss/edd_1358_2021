{
  "nbformat": 4,
  "nbformat_minor": 0,
  "metadata": {
    "colab": {
      "name": "tarea7.ipynb",
      "provenance": [],
      "authorship_tag": "ABX9TyPj25qopgwVz8fRCDGkureT",
      "include_colab_link": true
    },
    "kernelspec": {
      "name": "python3",
      "display_name": "Python 3"
    }
  },
  "cells": [
    {
      "cell_type": "markdown",
      "metadata": {
        "id": "view-in-github",
        "colab_type": "text"
      },
      "source": [
        "<a href=\"https://colab.research.google.com/github/victordelangelss/edd_1358_2021/blob/master/tarea7.ipynb\" target=\"_parent\"><img src=\"https://colab.research.google.com/assets/colab-badge.svg\" alt=\"Open In Colab\"/></a>"
      ]
    },
    {
      "cell_type": "code",
      "metadata": {
        "id": "tsqhZm7zKP5D"
      },
      "source": [
        "# pilas\n",
        "class Stack:\n",
        "    def __init__( self ):\n",
        "        self.__data = [ ]\n",
        "        self.__size = 0\n",
        "\n",
        "    def get_size( self ):\n",
        "        return self.__size\n",
        "\n",
        "    def is_empty( self ):\n",
        "        return self.__size == 0\n",
        "\n",
        "    def pop( self ):\n",
        "        self.__size -= 1\n",
        "        return self.__data.pop()\n",
        "\n",
        "    def peek( self ):\n",
        "        return self.__data[::-1]\n",
        "\n",
        "    def push( self, value ):\n",
        "        self.__size += 1\n",
        "        self.__data.append(value)\n",
        "\n",
        "    def to_string( self ): # imprimir el estado de la pila\n",
        "        print(\"------\")\n",
        "        for dato in self.__data[::-1]:\n",
        "            print(f\"| {dato} |\")\n",
        "            print(\"------\")"
      ],
      "execution_count": 2,
      "outputs": []
    },
    {
      "cell_type": "code",
      "metadata": {
        "colab": {
          "base_uri": "https://localhost:8080/"
        },
        "id": "x6xZuNgtVgd9",
        "outputId": "94cd55e0-173c-452e-f60c-7875ea28896a"
      },
      "source": [
        "#aplicaciones de la estructura Stack\n",
        "#validacion de parentesis balanceados '(', '{' y '['\n",
        "#cuando la ecuacion esta balanceada en parentesis\n",
        "cadena =\"b=3*((5+(4/2)))\"\n",
        "pila = Stack()\n",
        "pila.push(\"#\") # Caracter de pila vacia. \n",
        "pila.push(\"#\")\n",
        "\n",
        "for elem in cadena:\n",
        "    if elem == '(':\n",
        "        pila.push(\"*\")\n",
        "    elif elem == ')':\n",
        "        if pila.peek() == '#':\n",
        "            pila.push(\"error\")\n",
        "            pass\n",
        "        else:\n",
        "            pila.pop()\n",
        "    else:\n",
        "        pass\n",
        "if pila.peek() == [\"#\",\"#\"]:\n",
        "    print(\"la expresion está balanceada en parentesis \")\n",
        "else:\n",
        "    print(\"la expresion no esta balanceada \")\n",
        "\n",
        "\n"
      ],
      "execution_count": 15,
      "outputs": [
        {
          "output_type": "stream",
          "text": [
            "la expresion está balanceada en parentesis \n"
          ],
          "name": "stdout"
        }
      ]
    },
    {
      "cell_type": "code",
      "metadata": {
        "colab": {
          "base_uri": "https://localhost:8080/"
        },
        "id": "6W0Djs3FSSfY",
        "outputId": "a7310c34-6852-45e7-a8ec-d5b2b5525059"
      },
      "source": [
        "#cuando la expresion tiene más parentesis de apertura \n",
        "cadena =\"b=3*(((((5+(4/2)))\"\n",
        "pila = Stack()\n",
        "pila.push(\"#\") # Caracter de pila vacia. \n",
        "pila.push(\"#\")\n",
        "\n",
        "for elem in cadena:\n",
        "    if elem == '(':\n",
        "        pila.push(\"*\")\n",
        "    elif elem == ')':\n",
        "        if pila.peek() == '#':\n",
        "            pila.push(\"error\")\n",
        "            pass\n",
        "        else:\n",
        "            pila.pop()\n",
        "    else:\n",
        "        pass\n",
        "if pila.peek() == [\"#\",\"#\"]:\n",
        "    print(\"la expresion está balanceada en parentesis \")\n",
        "else:\n",
        "    print(\"la expresion no esta balanceada \")"
      ],
      "execution_count": 16,
      "outputs": [
        {
          "output_type": "stream",
          "text": [
            "la expresion no esta balanceada \n"
          ],
          "name": "stdout"
        }
      ]
    },
    {
      "cell_type": "code",
      "metadata": {
        "colab": {
          "base_uri": "https://localhost:8080/"
        },
        "id": "-6wEjfbDUlBZ",
        "outputId": "7809d907-b0e7-41b7-9356-1fcf5ed782c0"
      },
      "source": [
        "#cuando hay mas parentesis de cierre en la expresion\n",
        "cadena =\"b=3*(5+(4/2))))\"\n",
        "pila = Stack()\n",
        "pila.push(\"#\") # Caracter de pila vacia. \n",
        "pila.push(\"#\")\n",
        "\n",
        "for elem in cadena:\n",
        "    if elem == '(':\n",
        "        pila.push(\"*\")\n",
        "    elif elem == ')':\n",
        "        if pila.peek() == '#':\n",
        "            pila.push(\"error\")\n",
        "            pass\n",
        "        else:\n",
        "            pila.pop()\n",
        "    else:\n",
        "        pass\n",
        "if pila.peek() == [\"#\",\"#\"]:\n",
        "    print(\"la expresion está balanceada en parentesis \")\n",
        "else:\n",
        "    print(\"la expresion no esta balanceada \")"
      ],
      "execution_count": 17,
      "outputs": [
        {
          "output_type": "stream",
          "text": [
            "la expresion no esta balanceada \n"
          ],
          "name": "stdout"
        }
      ]
    }
  ]
}