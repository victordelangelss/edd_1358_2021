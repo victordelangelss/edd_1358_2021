{
  "nbformat": 4,
  "nbformat_minor": 0,
  "metadata": {
    "colab": {
      "name": "tarea4.ipynb",
      "provenance": [],
      "authorship_tag": "ABX9TyOUCmldR1f5GktlsUJDHbl4",
      "include_colab_link": true
    },
    "kernelspec": {
      "name": "python3",
      "display_name": "Python 3"
    }
  },
  "cells": [
    {
      "cell_type": "markdown",
      "metadata": {
        "id": "view-in-github",
        "colab_type": "text"
      },
      "source": [
        "<a href=\"https://colab.research.google.com/github/victordelangelss/edd_1358_2021/blob/master/tarea4.ipynb\" target=\"_parent\"><img src=\"https://colab.research.google.com/assets/colab-badge.svg\" alt=\"Open In Colab\"/></a>"
      ]
    },
    {
      "cell_type": "code",
      "metadata": {
        "id": "CCOYh70MpY-2"
      },
      "source": [
        "\n",
        "class Nodo: \n",
        "    def __init__( self, dato, siguiente=None ):\n",
        "        self.dato = dato\n",
        "        self.siguiente = siguiente\n",
        "\n",
        "\n",
        "class LinkedList:\n",
        "    def __init__( self ):\n",
        "        self.__head = None\n",
        "\n",
        "#retorna si la lista esta vacia\n",
        "    def is_empty( self ):\n",
        "        return self.__head == None\n",
        "\n",
        "    def tail( self ): #cola del nodo\n",
        "        curr_node = self.__head\n",
        "        while curr_node != None and curr_node.siguiente != None:\n",
        "            curr_node = curr_node.siguiente\n",
        "        return curr_node\n",
        "\n",
        "    def append( self, value ): #agregando un nodo al final\n",
        "        nuevo = Nodo( value )\n",
        "        if self.__head == None:\n",
        "            self.__head = nuevo\n",
        "        else:\n",
        "            self.tail().siguiente = nuevo \n",
        "\n",
        "    def transversal( self ): #recorriendo los nodos\n",
        "        curr_node = self.__head\n",
        "        if curr_node == None:\n",
        "            print(\"lista vacia\")\n",
        "        else:\n",
        "            while curr_node != None:\n",
        "                print(f\" { curr_node.dato } -->\", end=\"\")\n",
        "                curr_node = curr_node.siguiente\n",
        "        print(\"\")\n",
        "\n",
        "    def prepend( self, value ): #agregando un nodo al inicio\n",
        "        nuevo = Nodo( value)\n",
        "        if self.__head == None:\n",
        "            self.__head == nuevo\n",
        "        else:\n",
        "            x = self.__head\n",
        "            self.__head = nuevo\n",
        "            nuevo.siguiente = x\n",
        "\n",
        "    def remove( self, value ): # remover un nodo que se elija\n",
        "        curr_node = self.__head\n",
        "        while curr_node != None:\n",
        "            elimina = curr_node.siguiente\n",
        "            \n",
        "            if curr_node.siguiente == None:\n",
        "                return print(\"el valor no esta en la lista\")\n",
        "            \n",
        "            if elimina.dato == value:\n",
        "                curr_node.siguiente = curr_node.siguiente.siguiente\n",
        "                return self.transversal\n",
        "            \n",
        "            curr_node = curr_node.siguiente\n",
        "\n",
        "    def pop( self, value ): # obtener el valor de un nodo indicado\n",
        "        curr_node = self.__head\n",
        "        contador = 0\n",
        "        while contador <= value:\n",
        "            if contador == value:\n",
        "                print(f\"El valor en la posicion {contador} es {curr_node.dato}.\") \n",
        "                \n",
        "            curr_node = curr_node.siguiente\n",
        "            contador += 1\n"
      ],
      "execution_count": 44,
      "outputs": []
    },
    {
      "cell_type": "code",
      "metadata": {
        "colab": {
          "base_uri": "https://localhost:8080/"
        },
        "id": "XiVgb5ZNp96i",
        "outputId": "a23baf61-7416-410d-97eb-fa9493d12aff"
      },
      "source": [
        "l = LinkedList()\n",
        "print(f\"l esta vacia?= { l.is_empty() }\")\n",
        "x = l.tail()\n",
        "print(x)\n",
        "l.append(10)\n",
        "l.append(20)\n",
        "l.append(30)\n",
        "l.append(40)\n",
        "l.transversal()\n",
        "\n",
        "l.prepend(5)\n",
        "l.transversal()\n",
        "l.remove(10)\n",
        "l.remove(15)\n",
        "l.transversal()\n",
        "l.pop(3)"
      ],
      "execution_count": 48,
      "outputs": [
        {
          "output_type": "stream",
          "text": [
            "l esta vacia?= True\n",
            "None\n",
            " 10 --> 20 --> 30 --> 40 -->\n",
            " 5 --> 10 --> 20 --> 30 --> 40 -->\n",
            "el valor no esta en la lista\n",
            " 5 --> 20 --> 30 --> 40 -->\n",
            "El valor en la posicion 3 es 40.\n"
          ],
          "name": "stdout"
        }
      ]
    }
  ]
}