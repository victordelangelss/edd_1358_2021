{
  "nbformat": 4,
  "nbformat_minor": 0,
  "metadata": {
    "colab": {
      "name": "2octubre_1358.ipynb",
      "provenance": [],
      "authorship_tag": "ABX9TyN1k+ylZ2OhNGSmvvAoqs8o",
      "include_colab_link": true
    },
    "kernelspec": {
      "name": "python3",
      "display_name": "Python 3"
    }
  },
  "cells": [
    {
      "cell_type": "markdown",
      "metadata": {
        "id": "view-in-github",
        "colab_type": "text"
      },
      "source": [
        "<a href=\"https://colab.research.google.com/github/victordelangelss/edd_1358_2021/blob/master/2octubre_1358.ipynb\" target=\"_parent\"><img src=\"https://colab.research.google.com/assets/colab-badge.svg\" alt=\"Open In Colab\"/></a>"
      ]
    },
    {
      "cell_type": "code",
      "metadata": {
        "id": "_iWw8Dg-zT2-"
      },
      "source": [
        ""
      ],
      "execution_count": null,
      "outputs": []
    },
    {
      "cell_type": "markdown",
      "metadata": {
        "id": "4frgq2Q43IO1"
      },
      "source": [
        "# Tipos de dato\n",
        "\n",
        "-string             str\n",
        "\n",
        "-entero             int\n",
        "\n",
        "-número flotante    float\n",
        "\n",
        "-Logico             bool\n",
        "\n",
        "-úmero complejo     complex\n",
        "\n",
        "-Listas             list\n",
        "\n",
        "-Tuplas             tuple\n",
        "\n",
        "-DICCIONARIOS       dict\n",
        "\n",
        "-conjuntos          set"
      ]
    },
    {
      "cell_type": "code",
      "metadata": {
        "id": "65TX-T4O325-",
        "outputId": "69f799e7-949f-4021-8979-6ab5c6a83d14",
        "colab": {
          "base_uri": "https://localhost:8080/",
          "height": 136
        }
      },
      "source": [
        "#los estring pueden emplear \"\", '', o \"\"\"\"\"\"\n",
        "universidad = \"     universidad       nacional       autonoma    de     mexico\"\n",
        "print(universidad)\n",
        "\n",
        "#cuando el string es solo una palabra se usa ' ' para una buena practica\n",
        "carrera = 'ico'\n",
        "area = \"software\"\n",
        "division = 'dicision de las ciencias fisico matematicas'\n",
        "print(carrera, area)\n",
        "\n",
        "print(division)\n",
        "#\"\"\"cuando el string incluye varios renglones\n",
        "\n",
        "frase = \"\"\"si\n",
        "funciona,\n",
        "no lo \n",
        "arregles¡¡¡¡¡!!!!!\"\"\"\n",
        "print(frase)"
      ],
      "execution_count": 4,
      "outputs": [
        {
          "output_type": "stream",
          "text": [
            "     universidad       nacional       autonoma    de     mexico\n",
            "ico software\n",
            "dicision de las ciencias fisico matematicas\n",
            "si\n",
            "funciona,\n",
            "no lo \n",
            "arregles¡¡¡¡¡!!!!!\n"
          ],
          "name": "stdout"
        }
      ]
    },
    {
      "cell_type": "code",
      "metadata": {
        "id": "dnK15aD65fKp",
        "outputId": "59de2dc9-4bf4-42d1-d0e1-47453879bdd4",
        "colab": {
          "base_uri": "https://localhost:8080/",
          "height": 204
        }
      },
      "source": [
        "#upper para conbertir en mayuscula\n",
        "#lower para conbertir en minuscula\n",
        "print(universidad.upper())\n",
        "print(universidad)\n",
        "#title para poner la primera letra de cada palabra en mayuscula\n",
        "print(universidad.title())\n",
        "#eliminar espacios a la derecha e izquierda y saltos de linea\n",
        "universidad = universidad.strip()\n",
        "print(universidad)\n",
        "lista = universidad.split(\" \")\n",
        "print(lista)\n",
        "nueva =\" \"\n",
        "for l in lista:\n",
        "  if len(l) > 0:\n",
        "    nueva += l + \" \"\n",
        "print(nueva)\n",
        "\n",
        "#split es para separar numeros o letras \n",
        "numeros = \"1,2,34,56,100\"\n",
        "separados = numeros.split(\",\")\n",
        "print(separados)\n",
        "numeros_int= []\n",
        "#tabuladores son para representar bloques de programa\n",
        "for num in separados:\n",
        "  numeros_int.append( int(num) )\n",
        "\n",
        "print(numeros_int)\n",
        "print(nueva)\n",
        "#identificar la posicion de un caracter con index\n",
        "print(nueva.index(\" \"))\n",
        "#cambiar un caracter de la cadena sin modificar la cadena original\n",
        "print(nueva.replace(\" \", \"-\"))\n",
        "print(nueva)\n",
        "\n"
      ],
      "execution_count": 19,
      "outputs": [
        {
          "output_type": "stream",
          "text": [
            "UNIVERSIDAD       NACIONAL       AUTONOMA    DE     MEXICO\n",
            "universidad       nacional       autonoma    de     mexico\n",
            "Universidad       Nacional       Autonoma    De     Mexico\n",
            "universidad       nacional       autonoma    de     mexico\n",
            "['universidad', '', '', '', '', '', '', 'nacional', '', '', '', '', '', '', 'autonoma', '', '', '', 'de', '', '', '', '', 'mexico']\n",
            " universidad nacional autonoma de mexico \n",
            "['1', '2', '34', '56', '100']\n",
            "[1, 2, 34, 56, 100]\n",
            " universidad nacional autonoma de mexico \n",
            "0\n",
            "-universidad-nacional-autonoma-de-mexico-\n"
          ],
          "name": "stdout"
        }
      ]
    },
    {
      "cell_type": "markdown",
      "metadata": {
        "id": "Y5gR-s0Y3HB-"
      },
      "source": [
        "# slicing \n",
        "sintaxis \n",
        "[inicio : stop : incremento]"
      ]
    },
    {
      "cell_type": "code",
      "metadata": {
        "id": "N96uyrfA_ukH",
        "outputId": "69777aa3-dc5c-47e1-cec9-2f4a920c193c",
        "colab": {
          "base_uri": "https://localhost:8080/",
          "height": 153
        }
      },
      "source": [
        "#selector de elementos dentro de un string\n",
        "print( nueva [1] )\n",
        "nueva = nueva.strip()\n",
        "print(nueva[len(nueva)-1])#indexado negativo\n",
        "print(nueva[-1])\n",
        "print(nueva)\n",
        "#slicing\n",
        "#el stop se tiene que aumentar 1\n",
        "print( nueva[12 : 20: 1])\n",
        "#slicing idexado negativo\n",
        "print( nueva[-6 :  : 1])\n",
        "#mexico al reves con slicing\n",
        "print(nueva[-1 : -7 : -1])\n",
        "\n",
        "#valores por defecto [ 0: longitud de la lista : 1]\n",
        "print(nueva[::2])"
      ],
      "execution_count": 29,
      "outputs": [
        {
          "output_type": "stream",
          "text": [
            "n\n",
            "o\n",
            "o\n",
            "universidad nacional autonoma de mexico\n",
            "nacional\n",
            "mexico\n",
            "ocixem\n",
            "uiesddncoa uooad eio\n"
          ],
          "name": "stdout"
        }
      ]
    },
    {
      "cell_type": "markdown",
      "metadata": {
        "id": "GnDnLeQ1D8ki"
      },
      "source": [
        "# bool\n",
        "solo acepta 2 valores\n",
        "\n",
        "True bool(diferente de 0)\n",
        "\n",
        "False bool(0)"
      ]
    },
    {
      "cell_type": "code",
      "metadata": {
        "id": "jmYtDgZMELfv"
      },
      "source": [
        ""
      ],
      "execution_count": null,
      "outputs": []
    },
    {
      "cell_type": "code",
      "metadata": {
        "id": "huWT5MfWEMPX",
        "outputId": "c52554e8-2dc8-49e3-c2e5-9137a70c0037",
        "colab": {
          "base_uri": "https://localhost:8080/",
          "height": 85
        }
      },
      "source": [
        "print(bool(0))\n",
        "print(bool(2))\n",
        "flag = 0\n",
        "print(bool(flag))\n",
        "print(True)"
      ],
      "execution_count": 32,
      "outputs": [
        {
          "output_type": "stream",
          "text": [
            "False\n",
            "True\n",
            "False\n",
            "True\n"
          ],
          "name": "stdout"
        }
      ]
    },
    {
      "cell_type": "markdown",
      "metadata": {
        "id": "azF8N82sFT75"
      },
      "source": [
        "#comentarios\n",
        "\n",
        "para un comentario de una linea se usa #\n",
        "para un comentario de multiple linea, equivalente a /* */ de java y leng c se utiliza \"\"\"\n",
        "\"\"\""
      ]
    },
    {
      "cell_type": "code",
      "metadata": {
        "id": "ZRzWkVDCFXp6"
      },
      "source": [
        "# este es un comentario de linea simple\n",
        "\"\"\"\n",
        "este \n",
        "es un\n",
        "comentario de\n",
        "multiple\n",
        "linea\n",
        "\"\"\""
      ],
      "execution_count": null,
      "outputs": []
    },
    {
      "cell_type": "markdown",
      "metadata": {
        "id": "wi_xwh-NFk_9"
      },
      "source": [
        "# funcion Print\n",
        "hay 4 formas de usar print\n",
        "1. con comas (,)\n",
        "1. con signo (+)\n",
        "1. con la funcion format() de la clase str\n",
        "1. con el operador f\""
      ]
    },
    {
      "cell_type": "code",
      "metadata": {
        "id": "nM1XnVrWGKFw",
        "outputId": "62d1c8a1-75e1-4c81-ed73-710806d185fd",
        "colab": {
          "base_uri": "https://localhost:8080/",
          "height": 85
        }
      },
      "source": [
        "#con comas\n",
        "cantidad = 2\n",
        "precio_chetos = 8\n",
        "precio_fanta = 12\n",
        "print(cantidad,precio_chetos,precio_fanta)\n",
        "\n",
        "#con signo solo opera con str\n",
        "print(\"hola\"+\"mundo\")\n",
        "print(cantidad+precio_chetos+precio_fanta)\n",
        "print(str(cantidad) + str(precio_chetos) + str(precio_fanta))"
      ],
      "execution_count": 35,
      "outputs": [
        {
          "output_type": "stream",
          "text": [
            "2 8 12\n",
            "holamundo\n",
            "22\n",
            "2812\n"
          ],
          "name": "stdout"
        }
      ]
    }
  ]
}