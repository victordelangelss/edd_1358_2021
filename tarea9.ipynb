{
  "nbformat": 4,
  "nbformat_minor": 0,
  "metadata": {
    "colab": {
      "name": "tarea9.ipynb",
      "provenance": [],
      "authorship_tag": "ABX9TyPeCUmA5+z1nzODlSIQk/b0",
      "include_colab_link": true
    },
    "kernelspec": {
      "name": "python3",
      "display_name": "Python 3"
    }
  },
  "cells": [
    {
      "cell_type": "markdown",
      "metadata": {
        "id": "view-in-github",
        "colab_type": "text"
      },
      "source": [
        "<a href=\"https://colab.research.google.com/github/victordelangelss/edd_1358_2021/blob/master/tarea9.ipynb\" target=\"_parent\"><img src=\"https://colab.research.google.com/assets/colab-badge.svg\" alt=\"Open In Colab\"/></a>"
      ]
    },
    {
      "cell_type": "code",
      "metadata": {
        "id": "cIcy2atnX9oR"
      },
      "source": [
        "\r\n",
        "class Queue:\r\n",
        "    def __init__( self ):\r\n",
        "        self.__data = list()\r\n",
        "\r\n",
        "    def is_empty( self ):\r\n",
        "        return len(self.__data) == 0\r\n",
        "    \r\n",
        "    def length( self ):\r\n",
        "        return len(self.__data)\r\n",
        "    \r\n",
        "    def enqueue( self, item ):\r\n",
        "        self.__data.append(item)\r\n",
        "\r\n",
        "    def dequeue(self):\r\n",
        "        if not self.is_empty():      \r\n",
        "            return self.__data.pop(0)\r\n",
        "        else:\r\n",
        "            return None\r\n",
        "\r\n",
        "    def to_string( self ):\r\n",
        "        cadena = \"\"\r\n",
        "        for elem in self.__data:\r\n",
        "            cadena = cadena + \" | \" + elem\r\n",
        "        cadena = cadena + \" | \"\r\n",
        "        return cadena"
      ],
      "execution_count": 1,
      "outputs": []
    },
    {
      "cell_type": "code",
      "metadata": {
        "id": "xtoQesOzZElL"
      },
      "source": [
        "class BoundedPriorityQueue:\r\n",
        "    def __init__( self, niveles ):\r\n",
        "        self.__data = [Queue() for x in range(niveles) ]\r\n",
        "        self.__size = 0\r\n",
        "    \r\n",
        "    def is_empty( self ):\r\n",
        "        return self.__size == 0\r\n",
        "    \r\n",
        "    def length( self ):\r\n",
        "        return self.__size\r\n",
        "\r\n",
        "    def enqueue( self, prioridad, elem):\r\n",
        "        if prioridad < len(self.__data) and prioridad >= 0:\r\n",
        "            self.__data[prioridad].enqueue(elem)\r\n",
        "            self.__size +=1\r\n",
        "        else:\r\n",
        "            print(\"Prioridad fuera de rango.\")\r\n",
        "\r\n",
        "    def dequeue( self ):\r\n",
        "        if not self.is_empty():\r\n",
        "            nivel = 0\r\n",
        "            while self.__data[nivel].is_empty():\r\n",
        "                nivel += 1\r\n",
        "            self.__size -=1\r\n",
        "            return print(f\"Esta abandonando '{self.__data[nivel].dequeue()}'\")\r\n",
        "        else:\r\n",
        "            return \"La cola esta vacia.\"\r\n",
        "\r\n",
        "    def to_string( self ):\r\n",
        "        if self.is_empty():\r\n",
        "            print(\"El Barco esta vacio\")\r\n",
        "        else:\r\n",
        "            for nivel in range(len(self.__data)):\r\n",
        "                print(f\" Nivel {nivel} --> {self.__data[nivel].to_string()}\")"
      ],
      "execution_count": 2,
      "outputs": []
    },
    {
      "cell_type": "code",
      "metadata": {
        "colab": {
          "base_uri": "https://localhost:8080/",
          "height": 1000
        },
        "id": "ULL8xRM3ZMrM",
        "outputId": "fd24624e-c5b5-4fcd-a4e0-44b1911caa08"
      },
      "source": [
        "barco = BoundedPriorityQueue(6)\r\n",
        "barco.enqueue(4,'Maestre')\r\n",
        "barco.enqueue(2,'Niños')\r\n",
        "barco.enqueue(4,'Mecánico')\r\n",
        "barco.enqueue(3,'Mujeres')\r\n",
        "barco.enqueue(2,'3ra edad')\r\n",
        "barco.enqueue(1,'Niñas')\r\n",
        "barco.enqueue(3,'Hombres')\r\n",
        "barco.enqueue(4,'Vigia')\r\n",
        "barco.enqueue(5,'Capitán')\r\n",
        "barco.enqueue(4,'Timonel')\r\n",
        "\r\n",
        "barco.to_string()\r\n",
        "barco.dequeue()\r\n",
        "barco.to_string()\r\n",
        "barco.dequeue()\r\n",
        "barco.to_string()\r\n",
        "barco.dequeue()\r\n",
        "barco.to_string()\r\n",
        "barco.dequeue()\r\n",
        "barco.to_string()\r\n",
        "barco.dequeue()\r\n",
        "barco.to_string()\r\n",
        "barco.dequeue()\r\n",
        "barco.to_string()\r\n",
        "barco.dequeue()\r\n",
        "barco.to_string()\r\n",
        "barco.dequeue()\r\n",
        "barco.to_string()\r\n",
        "barco.dequeue()\r\n",
        "barco.to_string()\r\n",
        "barco.dequeue()\r\n",
        "barco.to_string()\r\n",
        "barco.dequeue()\r\n",
        "barco.to_string()\r\n",
        "barco.dequeue()"
      ],
      "execution_count": 3,
      "outputs": [
        {
          "output_type": "stream",
          "text": [
            " Nivel 0 -->  | \n",
            " Nivel 1 -->  | Niñas | \n",
            " Nivel 2 -->  | Niños | 3ra edad | \n",
            " Nivel 3 -->  | Mujeres | Hombres | \n",
            " Nivel 4 -->  | Maestre | Mecánico | Vigia | Timonel | \n",
            " Nivel 5 -->  | Capitán | \n",
            "Esta abandonando 'Niñas'\n",
            " Nivel 0 -->  | \n",
            " Nivel 1 -->  | \n",
            " Nivel 2 -->  | Niños | 3ra edad | \n",
            " Nivel 3 -->  | Mujeres | Hombres | \n",
            " Nivel 4 -->  | Maestre | Mecánico | Vigia | Timonel | \n",
            " Nivel 5 -->  | Capitán | \n",
            "Esta abandonando 'Niños'\n",
            " Nivel 0 -->  | \n",
            " Nivel 1 -->  | \n",
            " Nivel 2 -->  | 3ra edad | \n",
            " Nivel 3 -->  | Mujeres | Hombres | \n",
            " Nivel 4 -->  | Maestre | Mecánico | Vigia | Timonel | \n",
            " Nivel 5 -->  | Capitán | \n",
            "Esta abandonando '3ra edad'\n",
            " Nivel 0 -->  | \n",
            " Nivel 1 -->  | \n",
            " Nivel 2 -->  | \n",
            " Nivel 3 -->  | Mujeres | Hombres | \n",
            " Nivel 4 -->  | Maestre | Mecánico | Vigia | Timonel | \n",
            " Nivel 5 -->  | Capitán | \n",
            "Esta abandonando 'Mujeres'\n",
            " Nivel 0 -->  | \n",
            " Nivel 1 -->  | \n",
            " Nivel 2 -->  | \n",
            " Nivel 3 -->  | Hombres | \n",
            " Nivel 4 -->  | Maestre | Mecánico | Vigia | Timonel | \n",
            " Nivel 5 -->  | Capitán | \n",
            "Esta abandonando 'Hombres'\n",
            " Nivel 0 -->  | \n",
            " Nivel 1 -->  | \n",
            " Nivel 2 -->  | \n",
            " Nivel 3 -->  | \n",
            " Nivel 4 -->  | Maestre | Mecánico | Vigia | Timonel | \n",
            " Nivel 5 -->  | Capitán | \n",
            "Esta abandonando 'Maestre'\n",
            " Nivel 0 -->  | \n",
            " Nivel 1 -->  | \n",
            " Nivel 2 -->  | \n",
            " Nivel 3 -->  | \n",
            " Nivel 4 -->  | Mecánico | Vigia | Timonel | \n",
            " Nivel 5 -->  | Capitán | \n",
            "Esta abandonando 'Mecánico'\n",
            " Nivel 0 -->  | \n",
            " Nivel 1 -->  | \n",
            " Nivel 2 -->  | \n",
            " Nivel 3 -->  | \n",
            " Nivel 4 -->  | Vigia | Timonel | \n",
            " Nivel 5 -->  | Capitán | \n",
            "Esta abandonando 'Vigia'\n",
            " Nivel 0 -->  | \n",
            " Nivel 1 -->  | \n",
            " Nivel 2 -->  | \n",
            " Nivel 3 -->  | \n",
            " Nivel 4 -->  | Timonel | \n",
            " Nivel 5 -->  | Capitán | \n",
            "Esta abandonando 'Timonel'\n",
            " Nivel 0 -->  | \n",
            " Nivel 1 -->  | \n",
            " Nivel 2 -->  | \n",
            " Nivel 3 -->  | \n",
            " Nivel 4 -->  | \n",
            " Nivel 5 -->  | Capitán | \n",
            "Esta abandonando 'Capitán'\n",
            "El Barco esta vacio\n",
            "El Barco esta vacio\n"
          ],
          "name": "stdout"
        },
        {
          "output_type": "execute_result",
          "data": {
            "application/vnd.google.colaboratory.intrinsic+json": {
              "type": "string"
            },
            "text/plain": [
              "'La cola esta vacia.'"
            ]
          },
          "metadata": {
            "tags": []
          },
          "execution_count": 3
        }
      ]
    }
  ]
}