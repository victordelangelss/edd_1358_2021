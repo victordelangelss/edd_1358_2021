{
  "nbformat": 4,
  "nbformat_minor": 0,
  "metadata": {
    "colab": {
      "name": "30noviembre_1358.ipynb",
      "provenance": [],
      "collapsed_sections": [],
      "authorship_tag": "ABX9TyMnBNiOExTuep0b9XzOpuHz",
      "include_colab_link": true
    },
    "kernelspec": {
      "name": "python3",
      "display_name": "Python 3"
    }
  },
  "cells": [
    {
      "cell_type": "markdown",
      "metadata": {
        "id": "view-in-github",
        "colab_type": "text"
      },
      "source": [
        "<a href=\"https://colab.research.google.com/github/victordelangelss/edd_1358_2021/blob/master/30noviembre_1358.ipynb\" target=\"_parent\"><img src=\"https://colab.research.google.com/assets/colab-badge.svg\" alt=\"Open In Colab\"/></a>"
      ]
    },
    {
      "cell_type": "code",
      "metadata": {
        "id": "sdrz3Eah26UI"
      },
      "source": [
        "# pilas\n",
        "class Stack:\n",
        "    def __init__( self ):\n",
        "        self.__data = [ ]\n",
        "        self.__size = 0\n",
        "\n",
        "    def pop( self ):\n",
        "        return self.__data.pop()\n",
        "\n",
        "    def peek( self ):\n",
        "        return self.__data[-1]\n",
        "\n",
        "    def push( self, value ):\n",
        "        self.__data.append(value)\n",
        "\n",
        "    def to_string( self ): # imprimir el estado de la pila\n",
        "        print(\"------\")\n",
        "        for dato in self.__data[::-1]:\n",
        "            print(f\"| {dato} |\")\n",
        "            print(\"------\")\n"
      ],
      "execution_count": null,
      "outputs": []
    },
    {
      "cell_type": "code",
      "metadata": {
        "colab": {
          "base_uri": "https://localhost:8080/"
        },
        "id": "SQZ4MwGB_m6R",
        "outputId": "8cf18778-fd25-41d2-87d7-39d8d7457a60"
      },
      "source": [
        "pl = Stack()\n",
        "pl.push(34)\n",
        "pl.push(10)\n",
        "pl.push(45)\n",
        "pl.push(4)\n",
        "pl.push(33)\n",
        "valor = pl.pop()\n",
        "print( valor*2 )\n",
        "pl.to_string()\n",
        "valor = pl.peek()\n",
        "print( valor*2 )\n",
        "pl.to_string()"
      ],
      "execution_count": null,
      "outputs": [
        {
          "output_type": "stream",
          "text": [
            "66\n",
            "------\n",
            "| 4 |\n",
            "------\n",
            "| 45 |\n",
            "------\n",
            "| 10 |\n",
            "------\n",
            "| 34 |\n",
            "------\n",
            "8\n",
            "------\n",
            "| 4 |\n",
            "------\n",
            "| 45 |\n",
            "------\n",
            "| 10 |\n",
            "------\n",
            "| 34 |\n",
            "------\n"
          ],
          "name": "stdout"
        }
      ]
    },
    {
      "cell_type": "code",
      "metadata": {
        "id": "BpSHV9mlB4Tg",
        "colab": {
          "base_uri": "https://localhost:8080/"
        },
        "outputId": "f8f8856d-57d0-4191-9576-55a50ea7c8e7"
      },
      "source": [
        "#aplicaciones de la estructura Stack\n",
        "#validacion de parentesis balanceados '(', '{' y '['\n",
        "\n",
        "cadena =\"b=3*(5+(4/2))\"\n",
        "pila = Stack()\n",
        "pila.push(\"#\") # Caracter de pila vacia. \n",
        "for elem in cadena:\n",
        "    if elem == '(':\n",
        "        pila.push('*')\n",
        "    elif elem == ')':\n",
        "        pila.pop()\n",
        "    else:\n",
        "        pass\n",
        "if pila.peek() == '#':\n",
        "    print(\"la expresion está balanceada en parentesis \")\n",
        "else:\n",
        "    print(\"la expresion no esta balanceada \")\n"
      ],
      "execution_count": 10,
      "outputs": [
        {
          "output_type": "stream",
          "text": [
            "la expresion está balanceada en parentesis \n"
          ],
          "name": "stdout"
        }
      ]
    }
  ]
}