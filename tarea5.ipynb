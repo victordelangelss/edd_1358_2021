{
  "nbformat": 4,
  "nbformat_minor": 0,
  "metadata": {
    "colab": {
      "name": "tarea5.ipynb",
      "provenance": [],
      "authorship_tag": "ABX9TyPRHUGVeOLZsjhFnbbcpzp+",
      "include_colab_link": true
    },
    "kernelspec": {
      "name": "python3",
      "display_name": "Python 3"
    }
  },
  "cells": [
    {
      "cell_type": "markdown",
      "metadata": {
        "id": "view-in-github",
        "colab_type": "text"
      },
      "source": [
        "<a href=\"https://colab.research.google.com/github/victordelangelss/edd_1358_2021/blob/master/tarea5.ipynb\" target=\"_parent\"><img src=\"https://colab.research.google.com/assets/colab-badge.svg\" alt=\"Open In Colab\"/></a>"
      ]
    },
    {
      "cell_type": "code",
      "metadata": {
        "id": "f3aqQYKgWz5I"
      },
      "source": [
        "class NodoDoble:\n",
        "    def __init__( self, value, previo = None, siguiente = None ):\n",
        "        self.data = value\n",
        "        self.prev = previo\n",
        "        self.next = siguiente\n",
        "\n",
        "class DobleLinkedList:\n",
        "    def __init__( self ):\n",
        "        self.__head = None\n",
        "        self.__tail = None\n",
        "        self.__size = 0\n",
        "\n",
        "    def get_size( self ):\n",
        "        return self.__size\n",
        "\n",
        "    def is_empty( self ):\n",
        "        return self.__size == 0\n",
        "\n",
        "    def append( self, value ):\n",
        "        if self.is_empty() :\n",
        "            nuevo = NodoDoble( value )\n",
        "            self.__head = nuevo\n",
        "            self.__tail = nuevo\n",
        "        else:\n",
        "            nuevo = NodoDoble( value, self.__tail, None )\n",
        "            self.__tail.next = nuevo\n",
        "            self.__tail = nuevo\n",
        "\n",
        "        self.__size += 1\n",
        "\n",
        "    def transversal( self ):\n",
        "        curr_node = self.__head\n",
        "        while curr_node != None:\n",
        "            print(\"<--\", curr_node.data, \"-->\", end=\"\")\n",
        "            curr_node = curr_node.next\n",
        "        print(\"\")\n",
        "\n",
        "    def remove_from_head( self, value ): #remover un nodo apartir de la cabeza\n",
        "        if self.is_empty():\n",
        "            pass\n",
        "        elif self.__head.data == value:\n",
        "                    curr_node = curr_node.next\n",
        "                    curr_node.next.prev = None\n",
        "        else:\n",
        "            curr_node = self.__head\n",
        "            while curr_node.data != value and curr_node != None:\n",
        "                curr_node = curr_node.next\n",
        "                if curr_node.data == value: # que pasa si queremos eliminar el que esta en tail\n",
        "                    curr_node.prev.next = curr_node.next\n",
        "                    curr_node.next.prev = curr_node.prev\n",
        "                \n",
        "            self.__size -=1\n",
        "\n",
        "        \n",
        "    def remove_from_tail( self, value ): #remover un nodo apartir de la cola\n",
        "        if self.is_empty():\n",
        "            pass\n",
        "        elif self.__tail.data == value:\n",
        "                    curr_node = curr_node.prev\n",
        "                    curr_node.prev.next = None\n",
        "        else:\n",
        "            curr_node = self.__tail\n",
        "            while curr_node.data != value and curr_node != None:\n",
        "                curr_node = curr_node.prev\n",
        "                if curr_node.data == value: # que pasa si queremos eliminar el que esta en tail\n",
        "                    curr_node.next.prev = curr_node.prev\n",
        "                    curr_node.prev.next = curr_node.next\n",
        "                \n",
        "            self.__size -=1\n",
        "\n",
        "    def reverse_transversal( self ):\n",
        "            curr_node = self.__tail\n",
        "            while curr_node != None:\n",
        "                print(\"<--\", curr_node.data, \"-->\", end=\"\")\n",
        "                curr_node = curr_node.prev\n",
        "            print(\"\")\n",
        "\n",
        "    def find_from_head( self, value ): #encontrar un valor a partir de su posicion desde la cabeza\n",
        "        curr_node = self.__head\n",
        "        contador = 0\n",
        "        while contador <= value:\n",
        "            if contador == value:\n",
        "                print(f\"El valor en la posicion {contador} es {curr_node.data}.\") \n",
        "                \n",
        "            curr_node = curr_node.next\n",
        "            contador += 1\n",
        "\n",
        "    def find_from_tail( self, value ): #encontrar un valor a partir de su posicion desde la cola\n",
        "        curr_node = self.__tail\n",
        "        contador = 0\n",
        "        while curr_node != None:\n",
        "            if contador == value:\n",
        "                return print(f\"el valor en la posicion {contador} es {curr_node.data}\")\n",
        "            contador += 1\n",
        "            curr_node = curr_node.prev\n",
        "        return 'fuera de rango'\n",
        "            \n"
      ],
      "execution_count": 34,
      "outputs": []
    },
    {
      "cell_type": "code",
      "metadata": {
        "colab": {
          "base_uri": "https://localhost:8080/",
          "height": 505
        },
        "id": "9MF13js6bHAG",
        "outputId": "8cc45ce3-cedb-4f9b-cd90-dc1d3de61e0e"
      },
      "source": [
        "ldl = DobleLinkedList()\n",
        "print(ldl.get_size())\n",
        "ldl.append( 10 )\n",
        "print(ldl.get_size())\n",
        "\n",
        "ldl.transversal()\n",
        "ldl.append( 20 )\n",
        "ldl.append( 30 )\n",
        "ldl.append( 40 )\n",
        "ldl.append( 50 )\n",
        "ldl.append( 60 )\n",
        "print(ldl.get_size())\n",
        "ldl.transversal()\n",
        "\n",
        "ldl.find_from_head(2)\n",
        "print(ldl.find_from_tail(3))\n",
        "\n",
        "ldl.reverse_transversal()\n",
        "\n",
        "ldl.remove_from_head(10)\n",
        "ldl.remove_from_tail(60)\n",
        "ldl.transversal()"
      ],
      "execution_count": 36,
      "outputs": [
        {
          "output_type": "stream",
          "text": [
            "0\n",
            "1\n",
            "<-- 10 -->\n",
            "6\n",
            "<-- 10 --><-- 20 --><-- 30 --><-- 40 --><-- 50 --><-- 60 -->\n",
            "El valor en la posicion 2 es 30.\n",
            "el valor en la posicion 3 es 30\n",
            "None\n",
            "<-- 60 --><-- 50 --><-- 40 --><-- 30 --><-- 20 --><-- 10 -->\n"
          ],
          "name": "stdout"
        },
        {
          "output_type": "error",
          "ename": "UnboundLocalError",
          "evalue": "ignored",
          "traceback": [
            "\u001b[0;31m---------------------------------------------------------------------------\u001b[0m",
            "\u001b[0;31mUnboundLocalError\u001b[0m                         Traceback (most recent call last)",
            "\u001b[0;32m<ipython-input-36-592f470a901f>\u001b[0m in \u001b[0;36m<module>\u001b[0;34m()\u001b[0m\n\u001b[1;32m     18\u001b[0m \u001b[0mldl\u001b[0m\u001b[0;34m.\u001b[0m\u001b[0mreverse_transversal\u001b[0m\u001b[0;34m(\u001b[0m\u001b[0;34m)\u001b[0m\u001b[0;34m\u001b[0m\u001b[0;34m\u001b[0m\u001b[0m\n\u001b[1;32m     19\u001b[0m \u001b[0;34m\u001b[0m\u001b[0m\n\u001b[0;32m---> 20\u001b[0;31m \u001b[0mldl\u001b[0m\u001b[0;34m.\u001b[0m\u001b[0mremove_from_head\u001b[0m\u001b[0;34m(\u001b[0m\u001b[0;36m10\u001b[0m\u001b[0;34m)\u001b[0m\u001b[0;34m\u001b[0m\u001b[0;34m\u001b[0m\u001b[0m\n\u001b[0m\u001b[1;32m     21\u001b[0m \u001b[0mldl\u001b[0m\u001b[0;34m.\u001b[0m\u001b[0mremove_from_tail\u001b[0m\u001b[0;34m(\u001b[0m\u001b[0;36m60\u001b[0m\u001b[0;34m)\u001b[0m\u001b[0;34m\u001b[0m\u001b[0;34m\u001b[0m\u001b[0m\n\u001b[1;32m     22\u001b[0m \u001b[0mldl\u001b[0m\u001b[0;34m.\u001b[0m\u001b[0mtransversal\u001b[0m\u001b[0;34m(\u001b[0m\u001b[0;34m)\u001b[0m\u001b[0;34m\u001b[0m\u001b[0;34m\u001b[0m\u001b[0m\n",
            "\u001b[0;32m<ipython-input-34-b7e78c69fc52>\u001b[0m in \u001b[0;36mremove_from_head\u001b[0;34m(self, value)\u001b[0m\n\u001b[1;32m     40\u001b[0m             \u001b[0;32mpass\u001b[0m\u001b[0;34m\u001b[0m\u001b[0;34m\u001b[0m\u001b[0m\n\u001b[1;32m     41\u001b[0m         \u001b[0;32melif\u001b[0m \u001b[0mself\u001b[0m\u001b[0;34m.\u001b[0m\u001b[0m__head\u001b[0m\u001b[0;34m.\u001b[0m\u001b[0mdata\u001b[0m \u001b[0;34m==\u001b[0m \u001b[0mvalue\u001b[0m\u001b[0;34m:\u001b[0m\u001b[0;34m\u001b[0m\u001b[0;34m\u001b[0m\u001b[0m\n\u001b[0;32m---> 42\u001b[0;31m                     \u001b[0mcurr_node\u001b[0m \u001b[0;34m=\u001b[0m \u001b[0mcurr_node\u001b[0m\u001b[0;34m.\u001b[0m\u001b[0mnext\u001b[0m\u001b[0;34m\u001b[0m\u001b[0;34m\u001b[0m\u001b[0m\n\u001b[0m\u001b[1;32m     43\u001b[0m                     \u001b[0mcurr_node\u001b[0m\u001b[0;34m.\u001b[0m\u001b[0mnext\u001b[0m\u001b[0;34m.\u001b[0m\u001b[0mprev\u001b[0m \u001b[0;34m=\u001b[0m \u001b[0;32mNone\u001b[0m\u001b[0;34m\u001b[0m\u001b[0;34m\u001b[0m\u001b[0m\n\u001b[1;32m     44\u001b[0m         \u001b[0;32melse\u001b[0m\u001b[0;34m:\u001b[0m\u001b[0;34m\u001b[0m\u001b[0;34m\u001b[0m\u001b[0m\n",
            "\u001b[0;31mUnboundLocalError\u001b[0m: local variable 'curr_node' referenced before assignment"
          ]
        }
      ]
    }
  ]
}