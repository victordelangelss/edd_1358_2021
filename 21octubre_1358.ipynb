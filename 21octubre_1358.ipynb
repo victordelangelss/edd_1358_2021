{
  "nbformat": 4,
  "nbformat_minor": 0,
  "metadata": {
    "colab": {
      "name": "21octubre_1358.ipynb",
      "provenance": [],
      "authorship_tag": "ABX9TyNVXXWoo9VI8gvlRx4G9YYT",
      "include_colab_link": true
    },
    "kernelspec": {
      "name": "python3",
      "display_name": "Python 3"
    }
  },
  "cells": [
    {
      "cell_type": "markdown",
      "metadata": {
        "id": "view-in-github",
        "colab_type": "text"
      },
      "source": [
        "<a href=\"https://colab.research.google.com/github/victordelangelss/edd_1358_2021/blob/master/21octubre_1358.ipynb\" target=\"_parent\"><img src=\"https://colab.research.google.com/assets/colab-badge.svg\" alt=\"Open In Colab\"/></a>"
      ]
    },
    {
      "cell_type": "code",
      "metadata": {
        "id": "CU_Dg6F2npw3",
        "outputId": "4e3b96c5-d03d-4f71-ad4b-523c3e4edada",
        "colab": {
          "base_uri": "https://localhost:8080/",
          "height": 85
        }
      },
      "source": [
        "# .__ haces el metodo privado\n",
        "#encapsulamiento tradicional way metodo java\n",
        "class SmartPhone:\n",
        "    def __init__( self , m ):\n",
        "        self.__marca = m\n",
        "\n",
        "    def set_marca( self , m ):\n",
        "        self.__marca = m\n",
        "\n",
        "    def get_marca( self ):\n",
        "        return self.__marca\n",
        "\n",
        "    def to_string( self ):\n",
        "        return \"la marca del telefono es:\" + self.__marca\n",
        "\n",
        "sp1 = SmartPhone(\" Huawei \")\n",
        "print(sp1.to_string())\n",
        "# no se va a cambiar \n",
        "sp1.__marca = \"Iphone X\" \n",
        "print(sp1.to_string())\n",
        "# se va a cambiar si lo haces a traves del encapsulamiento\n",
        "sp1.set_marca(\"Samsung\")\n",
        "print(sp1.to_string())\n",
        "print(sp1.get_marca())\n",
        "\n"
      ],
      "execution_count": 4,
      "outputs": [
        {
          "output_type": "stream",
          "text": [
            "la marca del telefono es: Huawei \n",
            "la marca del telefono es: Huawei \n",
            "la marca del telefono es:Samsung\n",
            "Samsung\n"
          ],
          "name": "stdout"
        }
      ]
    },
    {
      "cell_type": "code",
      "metadata": {
        "id": "DJXq34gZxXjj",
        "outputId": "9b877f6b-2d5e-4b34-a2cc-171de7a09222",
        "colab": {
          "base_uri": "https://localhost:8080/",
          "height": 204
        }
      },
      "source": [
        "# encapsulamiento al estilo python 3\n",
        "class SmartPhone:\n",
        "    def __init__( self , m ):\n",
        "        self.marca = m   # estoy llamando al metodo get\n",
        "\n",
        "    @property # declarar y acceder al atributo marca\n",
        "    def marca( self ): # define metodo get y se declara self.__marca\n",
        "        print(\"En el metodo get de marca\")\n",
        "        return self.__marca\n",
        "\n",
        "    @marca.setter\n",
        "    def marca( self , m):\n",
        "        if m in [\"Lenovo\", \"Sony\", \"Motorola\", \"IPhone SE\", \"Huawei\", \"Xiaomi\"]: # aceptando marcas que si existan y sean conocidas\n",
        "            self.__marca = m\n",
        "        else:\n",
        "            print(\"Asignacion no valida\")\n",
        "\n",
        "    def to_string( self ):\n",
        "        return \"Marca = \" + self.marca\n",
        "\n",
        "sp2 = SmartPhone(\"Xiaomi\")\n",
        "print(sp2.to_string())\n",
        "sp2.__marca = \"Iphone SE\"\n",
        "print(sp2.to_string())\n",
        "sp2.marca = \"Motorola\" # invocacion del metodo set\n",
        "print(sp2.to_string())\n",
        "\n",
        "print(sp2.marca) # invocacion del metodo get\n",
        "\n",
        "sp2.marca = \"8724b98 y67e 131\"\n",
        "print(sp2.to_string())\n",
        "\n"
      ],
      "execution_count": 16,
      "outputs": [
        {
          "output_type": "stream",
          "text": [
            "En el metodo get de marca\n",
            "Marca = Xiaomi\n",
            "En el metodo get de marca\n",
            "Marca = Xiaomi\n",
            "En el metodo get de marca\n",
            "Marca = Motorola\n",
            "En el metodo get de marca\n",
            "Motorola\n",
            "Asignacion no valida\n",
            "En el metodo get de marca\n",
            "Marca = Motorola\n"
          ],
          "name": "stdout"
        }
      ]
    },
    {
      "cell_type": "code",
      "metadata": {
        "id": "F4_Jc2345DWT",
        "outputId": "0c91e235-7d20-43f3-c75b-27fd049e307f",
        "colab": {
          "base_uri": "https://localhost:8080/",
          "height": 88
        }
      },
      "source": [
        "#herencia de otra clase\n",
        "class TelefonoTrabajo(SmartPhone):\n",
        "    def __init__( self , m ):\n",
        "        self.marca = m\n",
        "\n",
        "sp3 = TelefonoTrabajo( \"Motorola\" )\n",
        "print(dir(sp3))\n",
        "print(sp3.to_string())\n",
        "\n"
      ],
      "execution_count": 19,
      "outputs": [
        {
          "output_type": "stream",
          "text": [
            "['_SmartPhone__marca', '__class__', '__delattr__', '__dict__', '__dir__', '__doc__', '__eq__', '__format__', '__ge__', '__getattribute__', '__gt__', '__hash__', '__init__', '__init_subclass__', '__le__', '__lt__', '__module__', '__ne__', '__new__', '__reduce__', '__reduce_ex__', '__repr__', '__setattr__', '__sizeof__', '__str__', '__subclasshook__', '__weakref__', 'marca', 'to_string']\n",
            "En el metodo get de marca\n",
            "Marca = Motorola\n"
          ],
          "name": "stdout"
        }
      ]
    }
  ]
}