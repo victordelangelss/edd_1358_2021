{
  "nbformat": 4,
  "nbformat_minor": 0,
  "metadata": {
    "colab": {
      "name": "12octubre_1358.ipynb",
      "provenance": [],
      "authorship_tag": "ABX9TyMDOK68V66D24BDlu4sbnJX",
      "include_colab_link": true
    },
    "kernelspec": {
      "name": "python3",
      "display_name": "Python 3"
    }
  },
  "cells": [
    {
      "cell_type": "markdown",
      "metadata": {
        "id": "view-in-github",
        "colab_type": "text"
      },
      "source": [
        "<a href=\"https://colab.research.google.com/github/victordelangelss/edd_1358_2021/blob/master/12octubre_1358.ipynb\" target=\"_parent\"><img src=\"https://colab.research.google.com/assets/colab-badge.svg\" alt=\"Open In Colab\"/></a>"
      ]
    },
    {
      "cell_type": "code",
      "metadata": {
        "id": "R3mwJzTUUnmT",
        "outputId": "22b0ab2f-9c83-43c4-8d5f-26c4bb9bd997",
        "colab": {
          "base_uri": "https://localhost:8080/",
          "height": 122
        }
      },
      "source": [
        "# diccionarios continuación\n",
        "cliente_banco = {\n",
        "              \"id\":1,\n",
        "              \"nombres\": [\"Juan\",\"Antonio\"],\n",
        "              \"paterno\":\"Garcia\",\n",
        "              \"materno\": \"Perez\",\n",
        "              \"telefonos\":{\n",
        "                          \"casa\": 5566778899,\n",
        "                           \"celular\":5544332211,\n",
        "                           \"trabajo\":5566223311\n",
        "                            },\n",
        "              \"activo\": True,\n",
        "              \"balance\":234567.89,\n",
        "              \"tarjetas\": ({\"tipo\":\"debito\",\"saldo\":12000},\n",
        "                           {\"tipo\":\"credito\",\"saldo\":3500.0})   \n",
        "              }\n",
        "print(cliente_banco)\n",
        "#modificando valor de diccionario\n",
        "#cliente_banco[\"balance\"] = cliente_banco[\"balance\"] -1000.89\n",
        "cliente_banco[\"balance\"] -= 1000.89 \n",
        "\n",
        "print(cliente_banco)\n",
        "#si es tupla se tiene que sustituir \n",
        "cliente_banco[\"tarjetas\"] = ({\"tipo\":\"debito\",\"saldo\":12000},\n",
        "                           {\"tipo\":\"credito\",\"saldo\":3500.0},\n",
        "                           {\"tipo\":\"credito\",\"nivel\":\"oro\",\"saldo\":50000})   \n",
        "print(cliente_banco)\n",
        "#agregando un nuevo elemento al final de la lista\n",
        "cliente_banco[\"direccion\"]= {\"calle\":\"rancho seco\",\"numero\":23}\n",
        "print(cliente_banco)\n",
        "#quitando un elemento en espesifico del diccionario con pop\n",
        "cliente_banco.pop(\"tarjetas\")\n",
        "print(cliente_banco)\n"
      ],
      "execution_count": 11,
      "outputs": [
        {
          "output_type": "stream",
          "text": [
            "{'id': 1, 'nombres': ['Juan', 'Antonio'], 'paterno': 'Garcia', 'materno': 'Perez', 'telefonos': {'casa': 5566778899, 'celular': 5544332211, 'trabajo': 5566223311}, 'activo': True, 'balance': 234567.89, 'tarjetas': ({'tipo': 'debito', 'saldo': 12000}, {'tipo': 'credito', 'saldo': 3500.0})}\n",
            "{'id': 1, 'nombres': ['Juan', 'Antonio'], 'paterno': 'Garcia', 'materno': 'Perez', 'telefonos': {'casa': 5566778899, 'celular': 5544332211, 'trabajo': 5566223311}, 'activo': True, 'balance': 233567.0, 'tarjetas': ({'tipo': 'debito', 'saldo': 12000}, {'tipo': 'credito', 'saldo': 3500.0})}\n",
            "{'id': 1, 'nombres': ['Juan', 'Antonio'], 'paterno': 'Garcia', 'materno': 'Perez', 'telefonos': {'casa': 5566778899, 'celular': 5544332211, 'trabajo': 5566223311}, 'activo': True, 'balance': 233567.0, 'tarjetas': ({'tipo': 'debito', 'saldo': 12000}, {'tipo': 'credito', 'saldo': 3500.0}, {'tipo': 'credito', 'nivel': 'oro', 'saldo': 50000})}\n",
            "{'id': 1, 'nombres': ['Juan', 'Antonio'], 'paterno': 'Garcia', 'materno': 'Perez', 'telefonos': {'casa': 5566778899, 'celular': 5544332211, 'trabajo': 5566223311}, 'activo': True, 'balance': 233567.0, 'tarjetas': ({'tipo': 'debito', 'saldo': 12000}, {'tipo': 'credito', 'saldo': 3500.0}, {'tipo': 'credito', 'nivel': 'oro', 'saldo': 50000}), 'direccion': {'calle': 'rancho seco', 'numero': 23}}\n",
            "{'id': 1, 'nombres': ['Juan', 'Antonio'], 'paterno': 'Garcia', 'materno': 'Perez', 'telefonos': {'casa': 5566778899, 'celular': 5544332211, 'trabajo': 5566223311}, 'activo': True, 'balance': 233567.0, 'direccion': {'calle': 'rancho seco', 'numero': 23}}\n"
          ],
          "name": "stdout"
        }
      ]
    },
    {
      "cell_type": "code",
      "metadata": {
        "id": "H2moHeXncbKi",
        "outputId": "672c9bce-0fce-4529-b42e-76d23ca3e35b",
        "colab": {
          "base_uri": "https://localhost:8080/",
          "height": 496
        }
      },
      "source": [
        "# nombre de las llaves del diccionario da una lista saliendo del diccionario\n",
        "llaves= cliente_banco.keys()\n",
        "print(llaves)\n",
        "print(type(llaves))\n",
        "for x in llaves:\n",
        "    print(x)\n",
        "#imprimir los valores del diccionario    \n",
        "valores = cliente_banco.values()\n",
        "for v in valores:\n",
        "    print(v)\n",
        "#llave y valor\n",
        "pares = cliente_banco.items()\n",
        "print(pares)\n",
        "\n",
        "for elem in pares:\n",
        "    print(f\" {elem[0]} = {elem[1]}\")"
      ],
      "execution_count": 18,
      "outputs": [
        {
          "output_type": "stream",
          "text": [
            "dict_keys(['id', 'nombres', 'paterno', 'materno', 'telefonos', 'activo', 'balance', 'direccion'])\n",
            "<class 'dict_keys'>\n",
            "id\n",
            "nombres\n",
            "paterno\n",
            "materno\n",
            "telefonos\n",
            "activo\n",
            "balance\n",
            "direccion\n",
            "1\n",
            "['Juan', 'Antonio']\n",
            "Garcia\n",
            "Perez\n",
            "{'casa': 5566778899, 'celular': 5544332211, 'trabajo': 5566223311}\n",
            "True\n",
            "233567.0\n",
            "{'calle': 'rancho seco', 'numero': 23}\n",
            "dict_items([('id', 1), ('nombres', ['Juan', 'Antonio']), ('paterno', 'Garcia'), ('materno', 'Perez'), ('telefonos', {'casa': 5566778899, 'celular': 5544332211, 'trabajo': 5566223311}), ('activo', True), ('balance', 233567.0), ('direccion', {'calle': 'rancho seco', 'numero': 23})])\n",
            " id = 1\n",
            " nombres = ['Juan', 'Antonio']\n",
            " paterno = Garcia\n",
            " materno = Perez\n",
            " telefonos = {'casa': 5566778899, 'celular': 5544332211, 'trabajo': 5566223311}\n",
            " activo = True\n",
            " balance = 233567.0\n",
            " direccion = {'calle': 'rancho seco', 'numero': 23}\n"
          ],
          "name": "stdout"
        }
      ]
    },
    {
      "cell_type": "code",
      "metadata": {
        "id": "A0IOGHbYg7ot",
        "outputId": "d071dd60-d8bc-4df6-972f-2cffaf1160e5",
        "colab": {
          "base_uri": "https://localhost:8080/",
          "height": 34
        }
      },
      "source": [
        "#combinando dosdiciionarios con .update (sobre todo para diccionarios grandes)\n",
        "fruta = {\"nombre\":\"manzana\",\"color\":\"rojo\",\"estado\":\"chihuahua\"}\n",
        "otras_caracteristicas = {\"vitamina\":\"D\"}\n",
        "fruta.update(otras_caracteristicas)\n",
        "print(fruta)\n"
      ],
      "execution_count": 19,
      "outputs": [
        {
          "output_type": "stream",
          "text": [
            "{'nombre': 'manzana', 'color': 'rojo', 'estado': 'chihuahua', 'vitamina': 'D'}\n"
          ],
          "name": "stdout"
        }
      ]
    },
    {
      "cell_type": "markdown",
      "metadata": {
        "id": "owcQ7eYriPoE"
      },
      "source": [
        "# funciones\n",
        "- recibe de 0 a n argumentos de entrada\n",
        "- regresa solo un valor, aunque ese valor sea None(nulo).\n",
        "- tiene un nombre unico en el contexto.\n",
        "- se pueden hacer solo dos cosascon funciones:\n",
        "    - definirla\n",
        "    - llamarla"
      ]
    },
    {
      "cell_type": "code",
      "metadata": {
        "id": "6D5I4Uwsi8oI",
        "outputId": "3a824f6b-28f6-4ae6-c276-c9c1c7a44ec0",
        "colab": {
          "base_uri": "https://localhost:8080/",
          "height": 51
        }
      },
      "source": [
        "#poner el return a menos que no regrese nada el codigo\n",
        "def suma(a,b):\n",
        "    return a+b\n",
        "\n",
        "def saludar():\n",
        "    print(\"Hola, ¿como estas?\")\n",
        "    return None\n",
        "\n",
        "x = 10\n",
        "y = 20\n",
        "c = suma(x,y)\n",
        "\n",
        "print(c)\n",
        "saludar()"
      ],
      "execution_count": 22,
      "outputs": [
        {
          "output_type": "stream",
          "text": [
            "30\n",
            "Hola, ¿como estas?\n"
          ],
          "name": "stdout"
        }
      ]
    },
    {
      "cell_type": "markdown",
      "metadata": {
        "id": "u6msBDjCkzdB"
      },
      "source": [
        "# None y las funciones\n",
        "aprovechar el uso de none en paso de parametros"
      ]
    },
    {
      "cell_type": "code",
      "metadata": {
        "id": "bN8QVFeFk7kH",
        "outputId": "05392589-5773-48af-ad6a-ba99330a3b34",
        "colab": {
          "base_uri": "https://localhost:8080/",
          "height": 51
        }
      },
      "source": [
        "def calcular(base , veces):\n",
        "    if base != None:\n",
        "        resultado = base * veces\n",
        "    else:\n",
        "        resultado = \"desconocido\"\n",
        "    return resultado\n",
        "\n",
        "print(calcular(4,3))\n",
        "print(calcular(None,3))"
      ],
      "execution_count": 25,
      "outputs": [
        {
          "output_type": "stream",
          "text": [
            "12\n",
            "desconocido\n"
          ],
          "name": "stdout"
        }
      ]
    },
    {
      "cell_type": "markdown",
      "metadata": {
        "id": "BYAS87j-fVBb"
      },
      "source": [
        ""
      ]
    }
  ]
}