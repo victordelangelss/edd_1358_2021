{
  "nbformat": 4,
  "nbformat_minor": 0,
  "metadata": {
    "colab": {
      "name": "Tarea8_cola_de_prioridad.ipynb",
      "provenance": [],
      "authorship_tag": "ABX9TyMyJ+l3xPndtZQ4v5qvYTVC",
      "include_colab_link": true
    },
    "kernelspec": {
      "name": "python3",
      "display_name": "Python 3"
    }
  },
  "cells": [
    {
      "cell_type": "markdown",
      "metadata": {
        "id": "view-in-github",
        "colab_type": "text"
      },
      "source": [
        "<a href=\"https://colab.research.google.com/github/victordelangelss/edd_1358_2021/blob/master/Tarea8_cola_de_prioridad.ipynb\" target=\"_parent\"><img src=\"https://colab.research.google.com/assets/colab-badge.svg\" alt=\"Open In Colab\"/></a>"
      ]
    },
    {
      "cell_type": "code",
      "metadata": {
        "id": "vcS4AOV2fduU"
      },
      "source": [
        "class Queue:\r\n",
        "    def __init__( self ):\r\n",
        "        self.__data = list()\r\n",
        "\r\n",
        "    def is_empty( self ):\r\n",
        "        return len(self.__data) == 0\r\n",
        "    \r\n",
        "    def length( self ):\r\n",
        "        return len(self.__data)\r\n",
        "    \r\n",
        "    def enqueue( self, item ):\r\n",
        "        self.__data.append(item)\r\n",
        "\r\n",
        "    def dequeue(self):\r\n",
        "        if not self.is_empty():      \r\n",
        "            return self.__data.pop(0)\r\n",
        "        else:\r\n",
        "            return None\r\n",
        "\r\n",
        "    def to_string( self ):\r\n",
        "        cadena = \"\"\r\n",
        "        for elem in self.__data:\r\n",
        "            cadena = cadena + \" | \" + elem\r\n",
        "        cadena = cadena + \" | \"\r\n",
        "        return cadena"
      ],
      "execution_count": 1,
      "outputs": []
    },
    {
      "cell_type": "code",
      "metadata": {
        "id": "8m8yhTcG71cM"
      },
      "source": [
        "class PriorityQueue:\r\n",
        "    def __init__( self ):\r\n",
        "        self.__data = [Queue()]\r\n",
        "        self.__size = 0\r\n",
        "\r\n",
        "    def is_empty( self ):\r\n",
        "        return self.__size == 0\r\n",
        "    \r\n",
        "    def length( self ):\r\n",
        "        return self.__size\r\n",
        "\r\n",
        "    def enqueue( self, prioridad, elem):\r\n",
        "        if prioridad < len(self.__data) and prioridad >= 0:\r\n",
        "            self.__data[prioridad].enqueue(elem)\r\n",
        "            self.__size +=1\r\n",
        "\r\n",
        "        elif prioridad >= len(self.__data) and prioridad >= 0:\r\n",
        "            while prioridad >= len(self.__data):\r\n",
        "                self.__data.append(Queue())\r\n",
        "            self.__data[prioridad].enqueue(elem)\r\n",
        "            self.__size +=1 \r\n",
        "        else:\r\n",
        "            print(\"Prioridad fuera de rango.\")\r\n",
        "\r\n",
        "    def dequeue( self ):\r\n",
        "        if not self.is_empty():\r\n",
        "            nivel = 0\r\n",
        "            while self.__data[nivel].is_empty():\r\n",
        "                nivel += 1\r\n",
        "            return self.__data[nivel].dequeue()\r\n",
        "\r\n",
        "    def to_string( self ):\r\n",
        "        for nivel in range(len(self.__data)):\r\n",
        "            print(f\" Nivel {nivel} --> {self.__data[nivel].to_string()}\")"
      ],
      "execution_count": 2,
      "outputs": []
    },
    {
      "cell_type": "code",
      "metadata": {
        "colab": {
          "base_uri": "https://localhost:8080/"
        },
        "id": "b6IUJlQK7707",
        "outputId": "c2b10755-3b1f-4dbd-d1d3-88ec15b5b19f"
      },
      "source": [
        "cpna = PriorityQueue()\r\n",
        "\r\n",
        "\"\"\"\r\n",
        "Prioridad   Nombre\r\n",
        "0           Fany\r\n",
        "1           Peña\r\n",
        "3           Arturo\r\n",
        "2           Alejandro\r\n",
        "6           Mario\r\n",
        "3           José\r\n",
        "4           Luisa\r\n",
        "5           Erick\r\n",
        "\"\"\"\r\n",
        "\r\n",
        "cpna.enqueue(0, \"Fany\")\r\n",
        "cpna.enqueue(1, \"Peña\")\r\n",
        "cpna.enqueue(3, \"Arturo\")\r\n",
        "cpna.enqueue(2, \"Alejandro\")\r\n",
        "cpna.enqueue(6, \"Mario\")\r\n",
        "cpna.enqueue(3, \"José\")\r\n",
        "cpna.enqueue(4, \"Luisa\")\r\n",
        "cpna.enqueue(5, \"Erick\")\r\n",
        "\r\n",
        "#Comprobación.\r\n",
        "cpna.enqueue(0,\"Victor\")\r\n",
        "cpna.to_string()\r\n",
        "\r\n",
        "print(\"/////////////////////////////\")\r\n",
        "\r\n",
        "print(cpna.dequeue())\r\n",
        "cpna.to_string()"
      ],
      "execution_count": 4,
      "outputs": [
        {
          "output_type": "stream",
          "text": [
            " Nivel 0 -->  | Fany | Victor | \n",
            " Nivel 1 -->  | Peña | \n",
            " Nivel 2 -->  | Alejandro | \n",
            " Nivel 3 -->  | Arturo | José | \n",
            " Nivel 4 -->  | Luisa | \n",
            " Nivel 5 -->  | Erick | \n",
            " Nivel 6 -->  | Mario | \n",
            "/////////////////////////////\n",
            "Fany\n",
            " Nivel 0 -->  | Victor | \n",
            " Nivel 1 -->  | Peña | \n",
            " Nivel 2 -->  | Alejandro | \n",
            " Nivel 3 -->  | Arturo | José | \n",
            " Nivel 4 -->  | Luisa | \n",
            " Nivel 5 -->  | Erick | \n",
            " Nivel 6 -->  | Mario | \n"
          ],
          "name": "stdout"
        }
      ]
    }
  ]
}