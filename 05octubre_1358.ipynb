{
  "nbformat": 4,
  "nbformat_minor": 0,
  "metadata": {
    "colab": {
      "name": "05octubre_1358.ipynb",
      "provenance": [],
      "authorship_tag": "ABX9TyN7hkRycOXYpqO4gQhTl8gT",
      "include_colab_link": true
    },
    "kernelspec": {
      "name": "python3",
      "display_name": "Python 3"
    }
  },
  "cells": [
    {
      "cell_type": "markdown",
      "metadata": {
        "id": "view-in-github",
        "colab_type": "text"
      },
      "source": [
        "<a href=\"https://colab.research.google.com/github/victordelangelss/edd_1358_2021/blob/master/05octubre_1358.ipynb\" target=\"_parent\"><img src=\"https://colab.research.google.com/assets/colab-badge.svg\" alt=\"Open In Colab\"/></a>"
      ]
    },
    {
      "cell_type": "code",
      "metadata": {
        "id": "sL6ip0sAVC_g",
        "outputId": "75682e16-fa64-411a-b6e0-d1be26080799",
        "colab": {
          "base_uri": "https://localhost:8080/",
          "height": 85
        }
      },
      "source": [
        "precio = 12.5\n",
        "cantidad = 2\n",
        "existencia = True\n",
        "\n",
        "# precio de los chetos es $12.5 y quiero 2, hay?: True\n",
        "\n",
        "print(\"precio de los chetos es $\", precio, \"y quiero\", cantidad, \", hay?:\", existencia)\n",
        "\n",
        "#simplificacion de lectura con la funcion format() de la clase str\n",
        "\n",
        "print(\"precio de los chetos es ${} y quiero {}, hay?: {}\".format(precio, cantidad, existencia))\n",
        "\n",
        "#puedes cambiar el orden de las variables con su respectivo numero\n",
        "print(\"precio de los chetos es ${2} y quiero {1}, hay?: {0}\".format(precio, cantidad, existencia))\n",
        "\n",
        "#operador f\"\", adecuacion para que sea más facil de leer\n",
        "print(f\"precio de los chetos es ${precio} y quiero {cantidad}, hay?: {existencia}\")\n",
        "\n"
      ],
      "execution_count": 6,
      "outputs": [
        {
          "output_type": "stream",
          "text": [
            "precio de los chetos es $ 12.5 y quiero 2 , hay?: True\n",
            "precio de los chetos es $12.5 y quiero 2, hay?: True\n",
            "precio de los chetos es $True y quiero 2, hay?: 12.5\n",
            "precio de los chetos es $12.5 y quiero 2, hay?: True\n"
          ],
          "name": "stdout"
        }
      ]
    },
    {
      "cell_type": "markdown",
      "metadata": {
        "id": "HrISsFXwYMnT"
      },
      "source": [
        "# Listas\n",
        "declaracion [ ]\n",
        "\n",
        "selector [ ]\n",
        "\n",
        "mutables\n",
        "\n",
        "# Tuplas\n",
        "declaracion ( )\n",
        "\n",
        "selector [ ]\n",
        "\n",
        "no mutables\n",
        "\n",
        "# Diccionarios\n",
        "conjuntos de datos en pares de llave:valor\n",
        "\n",
        "son mutables\n",
        "\n",
        "equivalentes a los objetos JSON\n",
        "\n",
        "\n",
        "# Conjuntos\n",
        "Grupo de elementos con la teoria de conjuntos\n",
        "\n",
        "operaciones de conjuntos"
      ]
    },
    {
      "cell_type": "code",
      "metadata": {
        "id": "pTS_CUVeZZK6",
        "outputId": "efac49c2-da93-4b90-a2f4-bc49b6f8942f",
        "colab": {
          "base_uri": "https://localhost:8080/",
          "height": 391
        }
      },
      "source": [
        "# Listas\n",
        "materias = [\"CyP\",\"SAA\",\"EDD\",\"IS\",\"POO\"]\n",
        "print(materias)\n",
        "print(materias[2])\n",
        "#para imprimir el ultimo elemento de la lista\n",
        "print(materias[-1])\n",
        "#para imprimir la lista en orden inverso\n",
        "print(materias[::-1])\n",
        "#crear una lista a partir de un string\n",
        "# split divide con el caracter que pongas en este caso /\n",
        "fecha = \"05/octubre/2020\"\n",
        "lista_fecha = fecha.split(\"/\")\n",
        "print(lista_fecha)\n",
        "\n",
        "# crear un string a partir de una lista\n",
        "# deben de ser string para que se puedan concatenar\n",
        "lista_hora = [\"15\",\"22\",\"45\"]\n",
        "hora = \":\".join(lista_hora)\n",
        "print(hora)\n",
        "\n",
        "print(\"---------------------\")\n",
        "print(materias)\n",
        "print(lista_fecha)\n",
        "print(lista_hora)\n",
        "\n",
        "#son mutables, para cambiar elementos o agregar\n",
        "#cambiando elementos\n",
        "materias[0] = \"Computadoras y Programacion\"\n",
        "print(materias)\n",
        "\n",
        "#agregando elemntos\n",
        "materias.append(\"Calidad\")\n",
        "print(materias)\n",
        "\n",
        "#agregar un elemento a la lista en la posicion que se deasea\n",
        "materias.insert(2,\"Emprendimiento\")\n",
        "print(materias)\n",
        "\n",
        "#el pop remueve de la lista el ultimo elemento en el indice\n",
        "materia = materias.pop()\n",
        "print(materia)\n",
        "print(materias)\n",
        "\n",
        "# puedes remover el indice que le pongas, mientras exista en la lista\n",
        "materia = materias.pop(1)\n",
        "print(materia)\n",
        "print(materias)\n",
        "\n",
        "#vaciar una lista es con .clear\n",
        "materias.clear()\n",
        "print(materias)\n",
        "\n",
        "#slicing [::]\n",
        "print(\"Slicing\")\n",
        "numeros = [0,1,2,3,4,5,6,7,8,9,10]\n",
        "print(numeros)\n",
        "print(numeros[4:9:1])\n",
        "\n",
        "# sustituir un segmento con slicing [0,1,2,3, -2,9,10] \n",
        "numeros[4:9:1] = [-2,-3]\n",
        "print(numeros)\n",
        "\n"
      ],
      "execution_count": 30,
      "outputs": [
        {
          "output_type": "stream",
          "text": [
            "['CyP', 'SAA', 'EDD', 'IS', 'POO']\n",
            "EDD\n",
            "POO\n",
            "['POO', 'IS', 'EDD', 'SAA', 'CyP']\n",
            "['05', 'octubre', '2020']\n",
            "15:22:45\n",
            "---------------------\n",
            "['CyP', 'SAA', 'EDD', 'IS', 'POO']\n",
            "['05', 'octubre', '2020']\n",
            "['15', '22', '45']\n",
            "['Computadoras y Programacion', 'SAA', 'EDD', 'IS', 'POO']\n",
            "['Computadoras y Programacion', 'SAA', 'EDD', 'IS', 'POO', 'Calidad']\n",
            "['Computadoras y Programacion', 'SAA', 'Emprendimiento', 'EDD', 'IS', 'POO', 'Calidad']\n",
            "Calidad\n",
            "['Computadoras y Programacion', 'SAA', 'Emprendimiento', 'EDD', 'IS', 'POO']\n",
            "SAA\n",
            "['Computadoras y Programacion', 'Emprendimiento', 'EDD', 'IS', 'POO']\n",
            "[]\n",
            "Slicing\n",
            "[0, 1, 2, 3, 4, 5, 6, 7, 8, 9, 10]\n",
            "[4, 5, 6, 7, 8]\n",
            "[0, 1, 2, 3, -2, -3, 9, 10]\n"
          ],
          "name": "stdout"
        }
      ]
    },
    {
      "cell_type": "code",
      "metadata": {
        "id": "RMbxQjicda3g",
        "outputId": "ff41ee58-fee3-4861-ef95-d5c552fda530",
        "colab": {
          "base_uri": "https://localhost:8080/",
          "height": 51
        }
      },
      "source": [
        "autos = [\"Mazda\",\"Honda\",\"Akura\",\"Ford\",\"VW\"]\n",
        "telefonos = [\"iphone\",\"Huawei Mate 30\",\"Xiaomi S10\",\"Alcatel t1000\"]\n",
        "sistemas_operativos = [\"Windows\",\"Linux\",\"Android\",\"ios\",\"MacOs\"]\n",
        "\n",
        "#cuando el profe dice arreglos esta hablando de listas\n",
        "lista_2d = [autos,telefonos,sistemas_operativos]\n",
        "print(lista_2d)\n",
        "print(lista_2d[1][1])\n"
      ],
      "execution_count": 33,
      "outputs": [
        {
          "output_type": "stream",
          "text": [
            "[['Mazda', 'Honda', 'Akura', 'Ford', 'VW'], ['iphone', 'Huawei Mate 30', 'Xiaomi S10', 'Alcatel t1000'], ['Windows', 'Linux', 'Android', 'ios', 'MacOs']]\n",
            "Huawei Mate 30\n"
          ],
          "name": "stdout"
        }
      ]
    }
  ]
}