{
  "nbformat": 4,
  "nbformat_minor": 0,
  "metadata": {
    "colab": {
      "name": "11enero_1358.ipynb",
      "provenance": [],
      "authorship_tag": "ABX9TyO3lgDGUFXw6OcDsZ86Sruo",
      "include_colab_link": true
    },
    "kernelspec": {
      "name": "python3",
      "display_name": "Python 3"
    }
  },
  "cells": [
    {
      "cell_type": "markdown",
      "metadata": {
        "id": "view-in-github",
        "colab_type": "text"
      },
      "source": [
        "<a href=\"https://colab.research.google.com/github/victordelangelss/edd_1358_2021/blob/master/11enero_1358.ipynb\" target=\"_parent\"><img src=\"https://colab.research.google.com/assets/colab-badge.svg\" alt=\"Open In Colab\"/></a>"
      ]
    },
    {
      "cell_type": "code",
      "metadata": {
        "id": "Obv9vY3YEZI-"
      },
      "source": [
        "class NodoArbol:\r\n",
        "    def __init__( self, dato, hijo_izq=None, hijo_der=None):\r\n",
        "        self.dato = dato\r\n",
        "        self.hijo_izq = hijo_izq\r\n",
        "        self.hijo_der = hijo_der\r\n",
        "        "
      ],
      "execution_count": 1,
      "outputs": []
    },
    {
      "cell_type": "code",
      "metadata": {
        "colab": {
          "base_uri": "https://localhost:8080/"
        },
        "id": "ahE7HvhVQ8eo",
        "outputId": "49b48889-31b0-4884-abdb-e6da9727393f"
      },
      "source": [
        "arbol = NodoArbol(\"R\")\r\n",
        "arbol.hijo_izq = NodoArbol(\"C\")\r\n",
        "arbol.hijo_der = NodoArbol(\"H\")\r\n",
        "# imprimir el nodo raiz??\r\n",
        "print(arbol.dato)\r\n",
        "# imprimir el hijo izquierdo\r\n",
        "print(arbol.hijo_izq.dato)\r\n",
        "# imprimir el hijo derecho\r\n",
        "print(arbol.hijo_der.dato)\r\n"
      ],
      "execution_count": 5,
      "outputs": [
        {
          "output_type": "stream",
          "text": [
            "R\n",
            "C\n",
            "H\n"
          ],
          "name": "stdout"
        }
      ]
    },
    {
      "cell_type": "code",
      "metadata": {
        "colab": {
          "base_uri": "https://localhost:8080/"
        },
        "id": "ihY79ni6SvAj",
        "outputId": "c358ab9e-687b-42fa-d0c8-49105d4698dc"
      },
      "source": [
        "arbol_v2 = NodoArbol(\"R\", NodoArbol(\"C\") , NodoArbol(\"H\") )\r\n",
        "print(arbol_v2.dato)\r\n",
        "print(arbol_v2.hijo_izq.dato)\r\n",
        "print(arbol_v2.hijo_der.dato)"
      ],
      "execution_count": 8,
      "outputs": [
        {
          "output_type": "stream",
          "text": [
            "R\n",
            "C\n",
            "H\n"
          ],
          "name": "stdout"
        }
      ]
    },
    {
      "cell_type": "code",
      "metadata": {
        "colab": {
          "base_uri": "https://localhost:8080/"
        },
        "id": "ZbOx1SuDTXLl",
        "outputId": "701bb676-b6db-4e4e-9670-6ef8440389d5"
      },
      "source": [
        "#ejercicio 2\r\n",
        "arbol2 = NodoArbol(\"4\", NodoArbol(\"3\", NodoArbol(\"2\", NodoArbol(\"2\"))), NodoArbol(\"5\"))\r\n",
        "print(arbol2.dato)\r\n",
        "print(arbol2.hijo_izq.dato)\r\n",
        "print(arbol2.hijo_der.dato)\r\n",
        "print(arbol2.hijo_izq.hijo_izq.dato)\r\n",
        "print(arbol2.hijo_izq.hijo_izq.hijo_izq.dato)\r\n",
        "\r\n",
        "print(\"/////////////\")\r\n",
        "aux = arbol2\r\n",
        "while aux.hijo_izq != None:\r\n",
        "    aux = aux.hijo_izq\r\n",
        "print(aux.dato)"
      ],
      "execution_count": 13,
      "outputs": [
        {
          "output_type": "stream",
          "text": [
            "4\n",
            "3\n",
            "5\n",
            "2\n",
            "2\n",
            "/////////////\n",
            "2\n"
          ],
          "name": "stdout"
        }
      ]
    },
    {
      "cell_type": "code",
      "metadata": {
        "id": "iv6OYudhYziV"
      },
      "source": [
        "class NodoArbol2:\r\n",
        "    def __init__( self, dato, hijo_izq=None, hijo_enm=None, hijo_der=None):\r\n",
        "        self.dato = dato\r\n",
        "        self.hijo_izq = hijo_izq\r\n",
        "        self.hijo_enm = hijo_enm\r\n",
        "        self.hijo_der = hijo_der\r\n",
        "        "
      ],
      "execution_count": 18,
      "outputs": []
    },
    {
      "cell_type": "code",
      "metadata": {
        "id": "cigaznEHZEJV"
      },
      "source": [
        "#ejercicio 3\r\n",
        "arbol3 = NodoArbol2(\"R\", NodoArbol2(\"I\",None ,NodoArbol2(\"x\"), None),NodoArbol2(\"c\",NodoArbol2(\"y\"), None, None),NodoArbol2(\"D\", None, None,NodoArbol2(\"Z\")))\r\n"
      ],
      "execution_count": 20,
      "outputs": []
    }
  ]
}