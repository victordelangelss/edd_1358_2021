{
  "nbformat": 4,
  "nbformat_minor": 0,
  "metadata": {
    "colab": {
      "name": "30septiembre_1358.ipynb",
      "provenance": [],
      "authorship_tag": "ABX9TyMtins0Iy3BavY7rYq58Ji7",
      "include_colab_link": true
    },
    "kernelspec": {
      "name": "python3",
      "display_name": "Python 3"
    }
  },
  "cells": [
    {
      "cell_type": "markdown",
      "metadata": {
        "id": "view-in-github",
        "colab_type": "text"
      },
      "source": [
        "<a href=\"https://colab.research.google.com/github/victordelangelss/edd_1358_2021/blob/master/30septiembre_1358.ipynb\" target=\"_parent\"><img src=\"https://colab.research.google.com/assets/colab-badge.svg\" alt=\"Open In Colab\"/></a>"
      ]
    },
    {
      "cell_type": "code",
      "metadata": {
        "id": "lgeYTFtTshqX"
      },
      "source": [
        ""
      ],
      "execution_count": null,
      "outputs": []
    },
    {
      "cell_type": "markdown",
      "metadata": {
        "id": "02Hg-cJ9swmx"
      },
      "source": [
        "# Fundamentos python 3\n",
        "edad = 13\n",
        "nombre= \"Jose\"\n",
        "estatura = 1.67\n",
        "tiene_ine = true\n",
        "### Compuestos\n",
        "\n",
        "####listas\n",
        "son mutables\n",
        "se accede a los elementos via el indice\n",
        "los elementos pueden ser de diferente tipo\n",
        "\n",
        "lista_ejemplo = [\"manzana\", 1.57, True, [\"rojo\", \"azul\"] ]\n",
        "#### Tuplas\n",
        "son inmutables\n",
        "se accede a los elementos via el indice\n",
        "los elementos pueden ser de diferente tipo\n",
        "\n",
        "tupla_ejemplo = (\"root\", \"123.322.45.4\", \"1234dios\")\n",
        "\n",
        "#### Diccionarios\n",
        "son equivalentes a los JSON de JS\n",
        "\n",
        "#### Seta\n",
        "son datos agrupados"
      ]
    },
    {
      "cell_type": "code",
      "metadata": {
        "id": "THl4Uh5muVnQ",
        "outputId": "d02cccb2-d699-4e14-9d25-86de929d53a6",
        "colab": {
          "base_uri": "https://localhost:8080/",
          "height": 221
        }
      },
      "source": [
        "lista_ejemplo = [\"manzana\", 1.57, True, [\"rojo\", \"azul\"] ]\n",
        "print(lista_ejemplo[1])\n",
        "print(lista_ejemplo[3])\n",
        "print(lista_ejemplo[3][1])\n",
        "lista_ejemplo[0]=\"Manzana\"\n",
        "print(lista_ejemplo)\n",
        "#agregar un elemento al final\n",
        "lista_ejemplo.append(\"iPhone\")\n",
        "print(lista_ejemplo)\n",
        "#sacar el ultimo elemento\n",
        "valor = lista_ejemplo.pop()\n",
        "print(valor)\n",
        "print(lista_ejemplo)\n",
        "\n",
        "#documentacion del tipo de dato lista dir() y help()\n",
        "\n",
        "print(\"-------------------------\")\n",
        "#agregar elemento en posicion espesifica\n",
        "lista_ejemplo.insert(1,\"Huawei\")\n",
        "print(lista_ejemplo)\n",
        "#contando cuantos elementos de cierto tipo hay en la lista\n",
        "conteo = lista_ejemplo.count(True)\n",
        "print(conteo)\n",
        "#agrega una lista a otra lista\n",
        "colores = [\"rosa\", \"fiusca\", \"negro\"]\n",
        "lista_ejemplo.append(colores)\n",
        "print(lista_ejemplo)\n",
        "\n",
        "# con extends fucionan 2 listas\n",
        "\n",
        "lista_ejemplo.extend(colores)\n",
        "print(lista_ejemplo)"
      ],
      "execution_count": 12,
      "outputs": [
        {
          "output_type": "stream",
          "text": [
            "1.57\n",
            "['rojo', 'azul']\n",
            "azul\n",
            "['Manzana', 1.57, True, ['rojo', 'azul']]\n",
            "['Manzana', 1.57, True, ['rojo', 'azul'], 'iPhone']\n",
            "iPhone\n",
            "['Manzana', 1.57, True, ['rojo', 'azul']]\n",
            "-------------------------\n",
            "['Manzana', 'Huawei', 1.57, True, ['rojo', 'azul']]\n",
            "1\n",
            "['Manzana', 'Huawei', 1.57, True, ['rojo', 'azul'], ['rosa', 'fiusca', 'negro']]\n",
            "['Manzana', 'Huawei', 1.57, True, ['rojo', 'azul'], ['rosa', 'fiusca', 'negro'], 'rosa', 'fiusca', 'negro']\n"
          ],
          "name": "stdout"
        }
      ]
    }
  ]
}