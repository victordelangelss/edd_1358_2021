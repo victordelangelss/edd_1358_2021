{
  "nbformat": 4,
  "nbformat_minor": 0,
  "metadata": {
    "colab": {
      "name": "28septiembre_1358.ipynb",
      "provenance": [],
      "authorship_tag": "ABX9TyP7VlMcBTXqaursgeaN0vez",
      "include_colab_link": true
    },
    "kernelspec": {
      "name": "python3",
      "display_name": "Python 3"
    }
  },
  "cells": [
    {
      "cell_type": "markdown",
      "metadata": {
        "id": "view-in-github",
        "colab_type": "text"
      },
      "source": [
        "<a href=\"https://colab.research.google.com/github/victordelangelss/edd_1358_2021/blob/master/28septiembre_1358.ipynb\" target=\"_parent\"><img src=\"https://colab.research.google.com/assets/colab-badge.svg\" alt=\"Open In Colab\"/></a>"
      ]
    },
    {
      "cell_type": "code",
      "metadata": {
        "id": "6kBSL4sr8VfI",
        "outputId": "d1f75803-3e48-4875-fc84-8a993f06240b",
        "colab": {
          "base_uri": "https://localhost:8080/",
          "height": 51
        }
      },
      "source": [
        "print (\"Hola colab research\")\n",
        "nombre = \"EdD\"\n",
        "print(nombre)"
      ],
      "execution_count": 1,
      "outputs": [
        {
          "output_type": "stream",
          "text": [
            "Hola colab research\n",
            "EdD\n"
          ],
          "name": "stdout"
        }
      ]
    },
    {
      "cell_type": "markdown",
      "metadata": {
        "id": "pAVpBfCz8mSF"
      },
      "source": [
        "#Esto es un encabezado\n",
        "##Encabezado nivel 2\n",
        "###Sintaxis MarkDown\n",
        "* elemento 1\n",
        "* elemento 2\n",
        "* elemento 3\n",
        "1. mango\n",
        "1. fresa\n",
        "1. manzana\n",
        "\n",
        "esto es un texto largo que quiero que sea en **negritas** y en *italica*.\n",
        "[Ir a google](https://www.google.com.mx/?hl=es-419)"
      ]
    },
    {
      "cell_type": "code",
      "metadata": {
        "id": "J6HMOUhp9UNf"
      },
      "source": [
        "class Silla(object):\n",
        "  def __init__(self):\n",
        "    self.material=\"\"\n",
        "    self.color=\"\"\n",
        "\n",
        "  def to_string(self):\n",
        "    print(\"-------\")\n",
        "    print(f\"Material:{self.material}\")\n",
        "    print(f\"color:{self.color}-----\")  "
      ],
      "execution_count": 3,
      "outputs": []
    },
    {
      "cell_type": "code",
      "metadata": {
        "id": "WlT_XQm49ZaC",
        "outputId": "d41e9163-efb0-4048-9ef9-a541b8b3330a",
        "colab": {
          "base_uri": "https://localhost:8080/",
          "height": 68
        }
      },
      "source": [
        "obj = Silla()\n",
        "obj.material = \"Madera\"\n",
        "obj.color= \"cafe\"\n",
        "obj.to_string()"
      ],
      "execution_count": 4,
      "outputs": [
        {
          "output_type": "stream",
          "text": [
            "-------\n",
            "Material:Madera\n",
            "color:cafe-----\n"
          ],
          "name": "stdout"
        }
      ]
    }
  ]
}