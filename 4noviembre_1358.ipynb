{
  "nbformat": 4,
  "nbformat_minor": 0,
  "metadata": {
    "colab": {
      "name": "4noviembre_1358.ipynb",
      "provenance": [],
      "authorship_tag": "ABX9TyMwzK4jvYHgeoBGnuGEjcR7",
      "include_colab_link": true
    },
    "kernelspec": {
      "name": "python3",
      "display_name": "Python 3"
    }
  },
  "cells": [
    {
      "cell_type": "markdown",
      "metadata": {
        "id": "view-in-github",
        "colab_type": "text"
      },
      "source": [
        "<a href=\"https://colab.research.google.com/github/victordelangelss/edd_1358_2021/blob/master/4noviembre_1358.ipynb\" target=\"_parent\"><img src=\"https://colab.research.google.com/assets/colab-badge.svg\" alt=\"Open In Colab\"/></a>"
      ]
    },
    {
      "cell_type": "code",
      "metadata": {
        "id": "rWzstXqEL4yr"
      },
      "source": [
        "def imprime_grid(self):\n",
        "        for r in range(self.grid.get_num_rows()):\n",
        "            for c in range(self.grid.get_num_cols()):\n",
        "                if self.grid.get_item(r,c) == 0:\n",
        "                    print(\"░░\",end=\"\")\n",
        "                else:\n",
        "                    print(\"▓▓\",end=\"\")\n",
        "            print(\"\")"
      ],
      "execution_count": 2,
      "outputs": []
    }
  ]
}